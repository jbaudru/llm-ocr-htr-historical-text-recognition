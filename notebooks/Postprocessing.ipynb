{
 "cells": [
  {
   "cell_type": "code",
   "execution_count": 1,
   "id": "dae9a792-d16f-48f8-8577-81fdb668aaaf",
   "metadata": {
    "tags": []
   },
   "outputs": [],
   "source": [
    "from openai import OpenAI\n",
    "import os\n",
    "import re\n",
    "import pandas as pd\n",
    "from dotenv import load_dotenv\n",
    "import requests"
   ]
  },
  {
   "cell_type": "code",
   "execution_count": 2,
   "id": "2b53f30b-4ad1-4b1b-9772-7beb67d47cb2",
   "metadata": {
    "tags": []
   },
   "outputs": [],
   "source": [
    "# Parent directory of the current directory\n",
    "path = os.path.dirname(os.getcwd()) \n",
    "\n",
    "output_folder = path+'/results/predictions'\n",
    "zero_simple_path = os.path.join(output_folder, 'zero-shot_simple-prompt')"
   ]
  },
  {
   "cell_type": "code",
   "execution_count": 3,
   "id": "5eac0fb7-4776-4a06-bd91-bd0f93a26978",
   "metadata": {
    "tags": []
   },
   "outputs": [
    {
     "data": {
      "text/plain": [
       "True"
      ]
     },
     "execution_count": 3,
     "metadata": {},
     "output_type": "execute_result"
    }
   ],
   "source": [
    "load_dotenv()"
   ]
  },
  {
   "cell_type": "code",
   "execution_count": 4,
   "id": "64754e7e-11d0-4330-be72-a9c6c9bd6e0a",
   "metadata": {
    "tags": []
   },
   "outputs": [],
   "source": [
    "openai_API_KEY = os.getenv(\"OPENAI_API_KEY\")\n",
    "openai_client = OpenAI(api_key=openai_API_KEY)"
   ]
  },
  {
   "cell_type": "code",
   "execution_count": 5,
   "id": "0b8f731c-2a56-4ede-a40e-16b61bb83fcc",
   "metadata": {
    "tags": []
   },
   "outputs": [
    {
     "data": {
      "text/plain": [
       "'Here\\'s a recreation of the content of the table in the image:\\n\\n| CLASSE DES DÉCRETS | DÉSIGNATION DES PERSONNES DÉCÉDÉES OU ABSENTES | NOMS, PRÉNOMS | QUALITÉ | DOMICILE | DATE DE NAISSANCE | LIEU DE NAISSANCE | OBSERVATIONS |\\n|-------------------|------------------------------------------------|---------------|---------|----------|-------------------|-------------------|---------------|\\n| 398 Trente huit | Hoorrent | Alphonse | Ouvrier (1849) | Roubaix (Nord) | 22/8/1825 | 1825 | Arrêté du vingt huit octobre 1879 (Absent) |\\n| 399 \" | Lefebvre | Jules | Ouvrier 6 octobre 1879 | Roubaix (Nord) | 12/5/ | 1823 | Arrêté du trente octobre 1879 (Absent) |\\n| 399 bis \" | Desmedt | Gustave | Nicollas 18 mars | Courtrai (Belgique) | 9/10 | (30) 49,50 | Arrêté du deux novembre 1879 (Absent) |\\n| 400 \" | Monseur | Pascal Henri | Célibataire 4 Août 41 | Roubaix-Tourcoing | 29/3/40 | 1840 45 | 55 \" \" |\\n| 401 \" | Bouty | Fidèle | Ouvrier 6 octobre 1879 | Roubaix (Nord) | 25/9/ | 25/9/ | 15 \" 22 Juillet |\\n| 402 quatre cent deux | Godart | Constable | Ouvrier 22 mars | Roubaix (Nord) | 15/5/1 | 1779/1 | 30 \" |'"
      ]
     },
     "execution_count": 5,
     "metadata": {},
     "output_type": "execute_result"
    }
   ],
   "source": [
    "claude_t1 = open(zero_simple_path+'/claude-3-5-sonnet-20240620/transcription_1.txt', 'r', encoding='utf-8').read()\n",
    "claude_t1"
   ]
  },
  {
   "cell_type": "code",
   "execution_count": 22,
   "id": "bc41fe26-d198-45ad-9cdf-ac06fe052725",
   "metadata": {
    "tags": []
   },
   "outputs": [],
   "source": [
    "def call(file):\n",
    "    headers = {\n",
    "        \"Content-Type\": \"application/json\",\n",
    "        \"Authorization\": f\"Bearer {openai_API_KEY}\"\n",
    "    }\n",
    "\n",
    "    payload = {\n",
    "        \"model\": \"gpt-4o\",\n",
    "        \"messages\":  [\n",
    "                    {\n",
    "                        \"role\": \"user\",\n",
    "                        \"content\": [\n",
    "                        {\n",
    "                            \"type\": \"text\",\n",
    "                            \"text\": f\"\"\"\n",
    "                            This is an output from you. Clean it such that we only have the table without any separators: {file}\n",
    "                            \"\"\"\n",
    "                        }\n",
    "                        ]\n",
    "                    }\n",
    "\n",
    "                    ],\n",
    "        \"max_tokens\": 1000,\n",
    "        \"temperature\": 0\n",
    "    }\n",
    "\n",
    "    response = requests.post(\"https://api.openai.com/v1/chat/completions\", headers=headers, json=payload)\n",
    "    content = response.json()[\"choices\"][0][\"message\"][\"content\"]\n",
    "    return content"
   ]
  },
  {
   "cell_type": "code",
   "execution_count": 24,
   "id": "bcc01d79-9738-4675-9511-79869962b385",
   "metadata": {
    "tags": []
   },
   "outputs": [
    {
     "name": "stdout",
     "output_type": "stream",
     "text": [
      "CLASSE DES DÉCRETS DÉSIGNATION DES PERSONNES DÉCÉDÉES OU ABSENTES NOMS, PRÉNOMS QUALITÉ DOMICILE DATE DE NAISSANCE LIEU DE NAISSANCE OBSERVATIONS\n",
      "398 Trente huit Hoorrent Alphonse Ouvrier (1849) Roubaix (Nord) 22/8/1825 1825 Arrêté du vingt huit octobre 1879 (Absent)\n",
      "399 \" Lefebvre Jules Ouvrier 6 octobre 1879 Roubaix (Nord) 12/5/ 1823 Arrêté du trente octobre 1879 (Absent)\n",
      "399 bis \" Desmedt Gustave Nicollas 18 mars Courtrai (Belgique) 9/10 (30) 49,50 Arrêté du deux novembre 1879 (Absent)\n",
      "400 \" Monseur Pascal Henri Célibataire 4 Août 41 Roubaix-Tourcoing 29/3/40 1840 45 55 \" \"\n",
      "401 \" Bouty Fidèle Ouvrier 6 octobre 1879 Roubaix (Nord) 25/9/ 25/9/ 15 \" 22 Juillet\n",
      "402 quatre cent deux Godart Constable Ouvrier 22 mars Roubaix (Nord) 15/5/1 1779/1 30 \"\n"
     ]
    }
   ],
   "source": [
    "claude_t1_cleaned = call(claude_t1)\n",
    "print(claude_t1_cleaned)"
   ]
  },
  {
   "cell_type": "code",
   "execution_count": 32,
   "id": "61a1ea6d-f343-466b-b04b-b919695ce2ea",
   "metadata": {
    "tags": []
   },
   "outputs": [
    {
     "name": "stdout",
     "output_type": "stream",
     "text": [
      "| DATE DE DÉCÈS | NOM | PRÉNOM | DOMICILE | PROFESSION | DATE DE NAISSANCE | LIEU DE NAISSANCE | DATE DE DÉPÔT | NATURE DU DÉPÔT | DATE DE L'ACTE DE DÉCÈS | DATE DE L'ACTE DE NAISSANCE | OBSERVATIONS |\n",
      "|---------------|-----|--------|-----------|-------------|----------------|----------------|--------------|----------------|----------------------|----------------------|--------------|\n",
      "| 6 1923 (mois illisible) | Heverent | (illisible) | (illisible) | (illisible) | (illisible) | (illisible) | (illisible) | (illisible) | (illisible) | (illisible) | (illisible) |\n",
      "| 6 1923 (mois illisible) | Lefevre | Jules | (illisible) | (illisible) | (illisible) | (illisible) | (illisible) | (illisible) | (illisible) | (illisible) | (illisible) |\n",
      "| 6 1923 (mois illisible) | Desmedt | Jeanne | (illisible) | (illisible) | (illisible) | (illisible) | (illisible) | (illisible) | (illisible) | (illisible) | (illisible) |\n",
      "| 6 1923 (mois illisible) | Monseur | (illisible) | (illisible) | (illisible) | (illisible) | (illisible) | (illisible) | (illisible) | (illisible) | (illisible) | (illisible) |\n",
      "| 6 1923 (mois illisible) | Bouly | (illisible) | (illisible) | (illisible) | (illisible) | (illisible) | (illisible) | (illisible) | (illisible) | (illisible) | (illisible) |\n",
      "| 6 1923 (mois illisible) | Godart | (illisible) | (illisible) | (illisible) | (illisible) | (illisible) | (illisible) | (illisible) | (illisible) | (illisible) | (illisible) |\n"
     ]
    }
   ],
   "source": [
    "gpt4o_t1 = open(zero_simple_path+'/gpt-4o/transcription_1.txt', 'r', encoding='utf-8').read()\n",
    "print(gpt4o_t1)"
   ]
  },
  {
   "cell_type": "code",
   "execution_count": 30,
   "id": "8461c943-91fc-4166-9ce9-3dfdd43f18a8",
   "metadata": {
    "tags": []
   },
   "outputs": [
    {
     "name": "stdout",
     "output_type": "stream",
     "text": [
      "DATE DE DÉCÈS NOM PRÉNOM DOMICILE PROFESSION DATE DE NAISSANCE LIEU DE NAISSANCE DATE DE DÉPÔT NATURE DU DÉPÔT DATE DE L'ACTE DE DÉCÈS DATE DE L'ACTE DE NAISSANCE OBSERVATIONS\n",
      "6 1923 (mois illisible) Heverent (illisible) (illisible) (illisible) (illisible) (illisible) (illisible) (illisible) (illisible) (illisible) (illisible)\n",
      "6 1923 (mois illisible) Lefevre Jules (illisible) (illisible) (illisible) (illisible) (illisible) (illisible) (illisible) (illisible) (illisible) (illisible)\n",
      "6 1923 (mois illisible) Desmedt Jeanne (illisible) (illisible) (illisible) (illisible) (illisible) (illisible) (illisible) (illisible) (illisible) (illisible)\n",
      "6 1923 (mois illisible) Monseur (illisible) (illisible) (illisible) (illisible) (illisible) (illisible) (illisible) (illisible) (illisible) (illisible)\n",
      "6 1923 (mois illisible) Bouly (illisible) (illisible) (illisible) (illisible) (illisible) (illisible) (illisible) (illisible) (illisible) (illisible)\n",
      "6 1923 (mois illisible) Godart (illisible) (illisible) (illisible) (illisible) (illisible) (illisible) (illisible) (illisible) (illisible) (illisible)\n"
     ]
    }
   ],
   "source": [
    "gpt4o_t1_cleaned = call(gpt4o_t1)\n",
    "print(gpt4o_t1_cleaned )"
   ]
  },
  {
   "cell_type": "code",
   "execution_count": null,
   "id": "34cf5fab-5767-4b06-83d6-bfe21902019e",
   "metadata": {},
   "outputs": [],
   "source": []
  }
 ],
 "metadata": {
  "kernelspec": {
   "display_name": "Python 3 (ipykernel)",
   "language": "python",
   "name": "python3"
  },
  "language_info": {
   "codemirror_mode": {
    "name": "ipython",
    "version": 3
   },
   "file_extension": ".py",
   "mimetype": "text/x-python",
   "name": "python",
   "nbconvert_exporter": "python",
   "pygments_lexer": "ipython3",
   "version": "3.11.7"
  }
 },
 "nbformat": 4,
 "nbformat_minor": 5
}
