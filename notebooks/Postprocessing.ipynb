{
 "cells": [
  {
   "cell_type": "code",
   "execution_count": 8,
   "id": "dae9a792-d16f-48f8-8577-81fdb668aaaf",
   "metadata": {},
   "outputs": [],
   "source": [
    "from openai import OpenAI\n",
    "import os\n",
    "import re\n",
    "import pandas as pd\n",
    "from dotenv import load_dotenv\n",
    "import requests"
   ]
  },
  {
   "cell_type": "code",
   "execution_count": 18,
   "id": "2b53f30b-4ad1-4b1b-9772-7beb67d47cb2",
   "metadata": {},
   "outputs": [],
   "source": [
    "# Parent directory of the current directory\n",
    "path = os.path.dirname(os.getcwd()) \n",
    "\n",
    "output_folder = path+'/results/predictions'\n",
    "zero_simple_path = os.path.join(output_folder, 'zero-shot_simple-prompt')"
   ]
  },
  {
   "cell_type": "code",
   "execution_count": 10,
   "id": "5eac0fb7-4776-4a06-bd91-bd0f93a26978",
   "metadata": {},
   "outputs": [
    {
     "data": {
      "text/plain": [
       "True"
      ]
     },
     "execution_count": 10,
     "metadata": {},
     "output_type": "execute_result"
    }
   ],
   "source": [
    "load_dotenv()"
   ]
  },
  {
   "cell_type": "code",
   "execution_count": 11,
   "id": "64754e7e-11d0-4330-be72-a9c6c9bd6e0a",
   "metadata": {},
   "outputs": [],
   "source": [
    "openai_API_KEY = os.getenv(\"OPENAI_API_KEY\")\n",
    "openai_client = OpenAI(api_key=openai_API_KEY)"
   ]
  },
  {
   "cell_type": "code",
   "execution_count": 20,
   "id": "0b8f731c-2a56-4ede-a40e-16b61bb83fcc",
   "metadata": {},
   "outputs": [
    {
     "data": {
      "text/plain": [
       "'Here\\'s a recreation of the content of the table in the image:\\n\\n| CLASSE DES DÉCRETS | DÉSIGNATION DES PERSONNES DÉCÉDÉES OU ABSENTES | NOMS, PRÉNOMS | QUALITÉ | DOMICILE | DATE DE NAISSANCE | LIEU DE NAISSANCE | OBSERVATIONS |\\n|-------------------|------------------------------------------------|---------------|---------|----------|-------------------|-------------------|---------------|\\n| 398 Trente huit | Hoorrent | Alphonse | Ouvrier (1849) | Roubaix (Nord) | 22/8/1825 | 1825 | Arrêté du vingt huit octobre 1879 (Absent) |\\n| 399 \" | Lefebvre | Jules | Ouvrier 6 octobre 1879 | Roubaix (Nord) | 12/5/ | 1823 | Arrêté du trente octobre 1879 (Absent) |\\n| 399 bis \" | Desmedt | Gustave | Nicollas 18 mars | Courtrai (Belgique) | 9/10 | (30) 49,50 | Arrêté du deux novembre 1879 (Absent) |\\n| 400 \" | Monseur | Pascal Henri | Célibataire 4 Août 41 | Roubaix-Tourcoing | 29/3/40 | 1840 45 | 55 \" \" |\\n| 401 \" | Bouty | Fidèle | Ouvrier 6 octobre 1879 | Roubaix (Nord) | 25/9/ | 25/9/ | 15 \" 22 Juillet |\\n| 402 quatre cent deux | Godart | Constable | Ouvrier 22 mars | Roubaix (Nord) | 15/5/1 | 1779/1 | 30 \" |'"
      ]
     },
     "execution_count": 20,
     "metadata": {},
     "output_type": "execute_result"
    }
   ],
   "source": [
    "claude_t1 = open(zero_simple_path+'/claude-3-5-sonnet-20240620/transcription_1.txt', 'r', encoding='utf-8').read()\n",
    "claude_t1"
   ]
  },
  {
   "cell_type": "code",
   "execution_count": 21,
   "id": "bc41fe26-d198-45ad-9cdf-ac06fe052725",
   "metadata": {},
   "outputs": [],
   "source": [
    "\n",
    "headers = {\n",
    "    \"Content-Type\": \"application/json\",\n",
    "    \"Authorization\": f\"Bearer {openai_API_KEY}\"\n",
    "}\n",
    "\n",
    "payload = {\n",
    "    \"model\": \"gpt-4o\",\n",
    "    \"messages\":  [\n",
    "                {\n",
    "                    \"role\": \"user\",\n",
    "                    \"content\": [\n",
    "                    {\n",
    "                        \"type\": \"text\",\n",
    "                        \"text\": f\"\"\"\n",
    "                        This is an output from you. Clean it such that we only have the table without any separators: {claude_t1}\n",
    "                        \"\"\"\n",
    "                    }\n",
    "                    ]\n",
    "                }\n",
    "\n",
    "                ],\n",
    "    \"max_tokens\": 1000,\n",
    "    \"temperature\": 0\n",
    "}\n",
    "\n",
    "response = requests.post(\"https://api.openai.com/v1/chat/completions\", headers=headers, json=payload)"
   ]
  },
  {
   "cell_type": "code",
   "execution_count": 24,
   "id": "7d0e0881-744d-4879-8ce7-d9af250cf222",
   "metadata": {},
   "outputs": [
    {
     "name": "stdout",
     "output_type": "stream",
     "text": [
      "CLASSE DES DÉCRETS DÉSIGNATION DES PERSONNES DÉCÉDÉES OU ABSENTES NOMS PRÉNOMS QUALITÉ DOMICILE DATE DE NAISSANCE LIEU DE NAISSANCE OBSERVATIONS\n",
      "398 Trente huit Hoorrent Alphonse Ouvrier (1849) Roubaix (Nord) 22/8/1825 1825 Arrêté du vingt huit octobre 1879 (Absent)\n",
      "399 \" Lefebvre Jules Ouvrier 6 octobre 1879 Roubaix (Nord) 12/5/ 1823 Arrêté du trente octobre 1879 (Absent)\n",
      "399 bis \" Desmedt Gustave Nicollas 18 mars Courtrai (Belgique) 9/10 (30) 49,50 Arrêté du deux novembre 1879 (Absent)\n",
      "400 \" Monseur Pascal Henri Célibataire 4 Août 41 Roubaix-Tourcoing 29/3/40 1840 45 55 \" \"\n",
      "401 \" Bouty Fidèle Ouvrier 6 octobre 1879 Roubaix (Nord) 25/9/ 25/9/ 15 \" 22 Juillet\n",
      "402 quatre cent deux Godart Constable Ouvrier 22 mars Roubaix (Nord) 15/5/1 1779/1 30 \"\n"
     ]
    }
   ],
   "source": [
    "content = response.json()[\"choices\"][0][\"message\"][\"content\"]\n",
    "print(content)"
   ]
  },
  {
   "cell_type": "code",
   "execution_count": null,
   "id": "61a1ea6d-f343-466b-b04b-b919695ce2ea",
   "metadata": {},
   "outputs": [],
   "source": []
  },
  {
   "cell_type": "code",
   "execution_count": null,
   "id": "8461c943-91fc-4166-9ce9-3dfdd43f18a8",
   "metadata": {},
   "outputs": [],
   "source": []
  }
 ],
 "metadata": {
  "kernelspec": {
   "display_name": "Python 3 (ipykernel)",
   "language": "python",
   "name": "python3"
  },
  "language_info": {
   "codemirror_mode": {
    "name": "ipython",
    "version": 3
   },
   "file_extension": ".py",
   "mimetype": "text/x-python",
   "name": "python",
   "nbconvert_exporter": "python",
   "pygments_lexer": "ipython3",
   "version": "3.9.18"
  }
 },
 "nbformat": 4,
 "nbformat_minor": 5
}
