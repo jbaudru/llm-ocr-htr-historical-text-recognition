{
 "cells": [
  {
   "cell_type": "markdown",
   "id": "88c798e7-9579-4c02-88ca-0c57e52c2966",
   "metadata": {},
   "source": [
    "# per-line transcription with LLM & OCR"
   ]
  },
  {
   "cell_type": "code",
   "execution_count": 149,
   "id": "069d0fa8-6403-402b-954a-cbc05503eb33",
   "metadata": {
    "tags": []
   },
   "outputs": [],
   "source": [
    "from openai import OpenAI\n",
    "import os\n",
    "import re\n",
    "import pandas as pd\n",
    "from dotenv import load_dotenv\n",
    "import requests\n",
    "import base64\n",
    "import subprocess\n",
    "from IPython.display import display, Image\n",
    "from PIL import Image as PILImage"
   ]
  },
  {
   "cell_type": "code",
   "execution_count": 150,
   "id": "0f521cad-9da9-4cdf-a63d-f5dd4ca3e4e4",
   "metadata": {
    "tags": []
   },
   "outputs": [],
   "source": [
    "import cv2\n",
    "import easyocr\n",
    "import matplotlib.pyplot as plt\n",
    "import pytesseract\n",
    "import keras_ocr"
   ]
  },
  {
   "cell_type": "code",
   "execution_count": 151,
   "id": "857d11aa-8fb9-4f32-a20c-5e418f5154e5",
   "metadata": {
    "tags": []
   },
   "outputs": [],
   "source": [
    "path = os.path.dirname(os.getcwd()) # Parent directory\n",
    "image_folder = path+'/data/lines'"
   ]
  },
  {
   "cell_type": "code",
   "execution_count": 152,
   "id": "ffd293ec-7b82-4145-820e-9e910c7d099d",
   "metadata": {
    "tags": []
   },
   "outputs": [],
   "source": [
    "# OpenAI\n",
    "load_dotenv() #get the environment \n",
    "openai_API_KEY = os.getenv(\"OPENAI_API_KEY\")\n",
    "openai_client = OpenAI(api_key=openai_API_KEY)"
   ]
  },
  {
   "cell_type": "markdown",
   "id": "9bf4c585-70a5-466a-ac27-f730debebfba",
   "metadata": {},
   "source": [
    "## Read and encode the images"
   ]
  },
  {
   "cell_type": "code",
   "execution_count": 153,
   "id": "2e6f97e1-5798-4253-a324-58a38bae7f3f",
   "metadata": {
    "tags": []
   },
   "outputs": [],
   "source": [
    "def encode_image(image_path):\n",
    "    with open(image_path, \"rb\") as image_file:\n",
    "        return base64.b64encode(image_file.read()).decode('utf-8')"
   ]
  },
  {
   "cell_type": "code",
   "execution_count": 154,
   "id": "3b48666f-fd04-4f79-ba1a-8a254e9d81c2",
   "metadata": {
    "tags": []
   },
   "outputs": [],
   "source": [
    "images = []\n",
    "for image in os.listdir(image_folder):\n",
    "    if image.endswith('.jpg'):\n",
    "        images.append(image)\n",
    "\n",
    "rows = []\n",
    "for image in images:\n",
    "    name = image.split('.')[0]\n",
    "    name_split = name.split('_')[0]\n",
    "    file_name = name_split.split('example')[1]\n",
    "    line_name = name.split('_')[1]\n",
    "    encoded_value = encode_image(image_folder+'/'+image)\n",
    "    rows.append({'file': file_name, 'line': line_name, 'encoded': encoded_value})\n"
   ]
  },
  {
   "cell_type": "code",
   "execution_count": 155,
   "id": "0828062a-758c-4b69-b654-79d6d4149da9",
   "metadata": {
    "scrolled": true,
    "tags": []
   },
   "outputs": [
    {
     "data": {
      "text/html": [
       "<div>\n",
       "<style scoped>\n",
       "    .dataframe tbody tr th:only-of-type {\n",
       "        vertical-align: middle;\n",
       "    }\n",
       "\n",
       "    .dataframe tbody tr th {\n",
       "        vertical-align: top;\n",
       "    }\n",
       "\n",
       "    .dataframe thead th {\n",
       "        text-align: right;\n",
       "    }\n",
       "</style>\n",
       "<table border=\"1\" class=\"dataframe\">\n",
       "  <thead>\n",
       "    <tr style=\"text-align: right;\">\n",
       "      <th></th>\n",
       "      <th>file</th>\n",
       "      <th>line</th>\n",
       "      <th>encoded</th>\n",
       "    </tr>\n",
       "  </thead>\n",
       "  <tbody>\n",
       "    <tr>\n",
       "      <th>0</th>\n",
       "      <td>6</td>\n",
       "      <td>02</td>\n",
       "      <td>/9j/4QYmRXhpZgAATU0AKgAAAAgADAEAAAMAAAABFkAAAA...</td>\n",
       "    </tr>\n",
       "    <tr>\n",
       "      <th>1</th>\n",
       "      <td>8</td>\n",
       "      <td>07</td>\n",
       "      <td>/9j/4QZ2RXhpZgAATU0AKgAAAAgADAEAAAMAAAABFkAAAA...</td>\n",
       "    </tr>\n",
       "    <tr>\n",
       "      <th>2</th>\n",
       "      <td>8</td>\n",
       "      <td>13</td>\n",
       "      <td>/9j/4QVvRXhpZgAATU0AKgAAAAgADAEAAAMAAAABFkAAAA...</td>\n",
       "    </tr>\n",
       "    <tr>\n",
       "      <th>3</th>\n",
       "      <td>15</td>\n",
       "      <td>03</td>\n",
       "      <td>/9j/4QU0RXhpZgAATU0AKgAAAAgADAEAAAMAAAABFkAAAA...</td>\n",
       "    </tr>\n",
       "    <tr>\n",
       "      <th>4</th>\n",
       "      <td>4</td>\n",
       "      <td>13</td>\n",
       "      <td>/9j/4QXKRXhpZgAATU0AKgAAAAgADAEAAAMAAAABFkAAAA...</td>\n",
       "    </tr>\n",
       "    <tr>\n",
       "      <th>...</th>\n",
       "      <td>...</td>\n",
       "      <td>...</td>\n",
       "      <td>...</td>\n",
       "    </tr>\n",
       "    <tr>\n",
       "      <th>278</th>\n",
       "      <td>3</td>\n",
       "      <td>03</td>\n",
       "      <td>/9j/4QYtRXhpZgAATU0AKgAAAAgADAEAAAMAAAABFkAAAA...</td>\n",
       "    </tr>\n",
       "    <tr>\n",
       "      <th>279</th>\n",
       "      <td>12</td>\n",
       "      <td>13</td>\n",
       "      <td>/9j/4QYbRXhpZgAATU0AKgAAAAgADAEAAAMAAAABFkAAAA...</td>\n",
       "    </tr>\n",
       "    <tr>\n",
       "      <th>280</th>\n",
       "      <td>12</td>\n",
       "      <td>07</td>\n",
       "      <td>/9j/4QZHRXhpZgAATU0AKgAAAAgADAEAAAMAAAABFkAAAA...</td>\n",
       "    </tr>\n",
       "    <tr>\n",
       "      <th>281</th>\n",
       "      <td>1</td>\n",
       "      <td>12</td>\n",
       "      <td>/9j/4QVrRXhpZgAATU0AKgAAAAgADQEAAAMAAAABD5YAAA...</td>\n",
       "    </tr>\n",
       "    <tr>\n",
       "      <th>282</th>\n",
       "      <td>1</td>\n",
       "      <td>06</td>\n",
       "      <td>/9j/4QVqRXhpZgAATU0AKgAAAAgADQEAAAMAAAABD5YAAA...</td>\n",
       "    </tr>\n",
       "  </tbody>\n",
       "</table>\n",
       "<p>283 rows × 3 columns</p>\n",
       "</div>"
      ],
      "text/plain": [
       "    file line                                            encoded\n",
       "0      6   02  /9j/4QYmRXhpZgAATU0AKgAAAAgADAEAAAMAAAABFkAAAA...\n",
       "1      8   07  /9j/4QZ2RXhpZgAATU0AKgAAAAgADAEAAAMAAAABFkAAAA...\n",
       "2      8   13  /9j/4QVvRXhpZgAATU0AKgAAAAgADAEAAAMAAAABFkAAAA...\n",
       "3     15   03  /9j/4QU0RXhpZgAATU0AKgAAAAgADAEAAAMAAAABFkAAAA...\n",
       "4      4   13  /9j/4QXKRXhpZgAATU0AKgAAAAgADAEAAAMAAAABFkAAAA...\n",
       "..   ...  ...                                                ...\n",
       "278    3   03  /9j/4QYtRXhpZgAATU0AKgAAAAgADAEAAAMAAAABFkAAAA...\n",
       "279   12   13  /9j/4QYbRXhpZgAATU0AKgAAAAgADAEAAAMAAAABFkAAAA...\n",
       "280   12   07  /9j/4QZHRXhpZgAATU0AKgAAAAgADAEAAAMAAAABFkAAAA...\n",
       "281    1   12  /9j/4QVrRXhpZgAATU0AKgAAAAgADQEAAAMAAAABD5YAAA...\n",
       "282    1   06  /9j/4QVqRXhpZgAATU0AKgAAAAgADQEAAAMAAAABD5YAAA...\n",
       "\n",
       "[283 rows x 3 columns]"
      ]
     },
     "execution_count": 155,
     "metadata": {},
     "output_type": "execute_result"
    }
   ],
   "source": [
    "images_encoded = pd.DataFrame(rows)\n",
    "images_encoded"
   ]
  },
  {
   "cell_type": "code",
   "execution_count": 156,
   "id": "7c988074",
   "metadata": {},
   "outputs": [
    {
     "data": {
      "text/html": [
       "<div>\n",
       "<style scoped>\n",
       "    .dataframe tbody tr th:only-of-type {\n",
       "        vertical-align: middle;\n",
       "    }\n",
       "\n",
       "    .dataframe tbody tr th {\n",
       "        vertical-align: top;\n",
       "    }\n",
       "\n",
       "    .dataframe thead th {\n",
       "        text-align: right;\n",
       "    }\n",
       "</style>\n",
       "<table border=\"1\" class=\"dataframe\">\n",
       "  <thead>\n",
       "    <tr style=\"text-align: right;\">\n",
       "      <th></th>\n",
       "      <th>file</th>\n",
       "      <th>line</th>\n",
       "      <th>encoded</th>\n",
       "    </tr>\n",
       "  </thead>\n",
       "  <tbody>\n",
       "    <tr>\n",
       "      <th>0</th>\n",
       "      <td>1</td>\n",
       "      <td>00</td>\n",
       "      <td>/9j/4QczRXhpZgAATU0AKgAAAAgADQEAAAMAAAABD5YAAA...</td>\n",
       "    </tr>\n",
       "    <tr>\n",
       "      <th>1</th>\n",
       "      <td>1</td>\n",
       "      <td>01</td>\n",
       "      <td>/9j/4QZBRXhpZgAATU0AKgAAAAgADQEAAAMAAAABD5YAAA...</td>\n",
       "    </tr>\n",
       "    <tr>\n",
       "      <th>2</th>\n",
       "      <td>1</td>\n",
       "      <td>02</td>\n",
       "      <td>/9j/4QX5RXhpZgAATU0AKgAAAAgADQEAAAMAAAABD5YAAA...</td>\n",
       "    </tr>\n",
       "    <tr>\n",
       "      <th>3</th>\n",
       "      <td>1</td>\n",
       "      <td>03</td>\n",
       "      <td>/9j/4QYvRXhpZgAATU0AKgAAAAgADQEAAAMAAAABD5YAAA...</td>\n",
       "    </tr>\n",
       "    <tr>\n",
       "      <th>4</th>\n",
       "      <td>1</td>\n",
       "      <td>04</td>\n",
       "      <td>/9j/4QZLRXhpZgAATU0AKgAAAAgADQEAAAMAAAABD5YAAA...</td>\n",
       "    </tr>\n",
       "    <tr>\n",
       "      <th>5</th>\n",
       "      <td>1</td>\n",
       "      <td>05</td>\n",
       "      <td>/9j/4QVaRXhpZgAATU0AKgAAAAgADQEAAAMAAAABD5YAAA...</td>\n",
       "    </tr>\n",
       "    <tr>\n",
       "      <th>6</th>\n",
       "      <td>1</td>\n",
       "      <td>06</td>\n",
       "      <td>/9j/4QVqRXhpZgAATU0AKgAAAAgADQEAAAMAAAABD5YAAA...</td>\n",
       "    </tr>\n",
       "    <tr>\n",
       "      <th>7</th>\n",
       "      <td>1</td>\n",
       "      <td>07</td>\n",
       "      <td>/9j/4QX5RXhpZgAATU0AKgAAAAgADQEAAAMAAAABD5YAAA...</td>\n",
       "    </tr>\n",
       "    <tr>\n",
       "      <th>8</th>\n",
       "      <td>1</td>\n",
       "      <td>08</td>\n",
       "      <td>/9j/4QWRRXhpZgAATU0AKgAAAAgADQEAAAMAAAABD5YAAA...</td>\n",
       "    </tr>\n",
       "    <tr>\n",
       "      <th>9</th>\n",
       "      <td>1</td>\n",
       "      <td>09</td>\n",
       "      <td>/9j/4QZyRXhpZgAATU0AKgAAAAgADQEAAAMAAAABD5YAAA...</td>\n",
       "    </tr>\n",
       "    <tr>\n",
       "      <th>10</th>\n",
       "      <td>1</td>\n",
       "      <td>10</td>\n",
       "      <td>/9j/4QZRRXhpZgAATU0AKgAAAAgADQEAAAMAAAABD5YAAA...</td>\n",
       "    </tr>\n",
       "    <tr>\n",
       "      <th>11</th>\n",
       "      <td>1</td>\n",
       "      <td>11</td>\n",
       "      <td>/9j/4QZ1RXhpZgAATU0AKgAAAAgADQEAAAMAAAABD5YAAA...</td>\n",
       "    </tr>\n",
       "    <tr>\n",
       "      <th>12</th>\n",
       "      <td>1</td>\n",
       "      <td>12</td>\n",
       "      <td>/9j/4QVrRXhpZgAATU0AKgAAAAgADQEAAAMAAAABD5YAAA...</td>\n",
       "    </tr>\n",
       "    <tr>\n",
       "      <th>13</th>\n",
       "      <td>1</td>\n",
       "      <td>13</td>\n",
       "      <td>/9j/4QaFRXhpZgAATU0AKgAAAAgADQEAAAMAAAABD5YAAA...</td>\n",
       "    </tr>\n",
       "    <tr>\n",
       "      <th>14</th>\n",
       "      <td>2</td>\n",
       "      <td>00</td>\n",
       "      <td>/9j/4QcyRXhpZgAATU0AKgAAAAgADQEAAAMAAAABD30AAA...</td>\n",
       "    </tr>\n",
       "    <tr>\n",
       "      <th>15</th>\n",
       "      <td>2</td>\n",
       "      <td>01</td>\n",
       "      <td>/9j/4QVORXhpZgAATU0AKgAAAAgADQEAAAMAAAABD30AAA...</td>\n",
       "    </tr>\n",
       "    <tr>\n",
       "      <th>16</th>\n",
       "      <td>2</td>\n",
       "      <td>02</td>\n",
       "      <td>/9j/4QX+RXhpZgAATU0AKgAAAAgADQEAAAMAAAABD30AAA...</td>\n",
       "    </tr>\n",
       "    <tr>\n",
       "      <th>17</th>\n",
       "      <td>2</td>\n",
       "      <td>03</td>\n",
       "      <td>/9j/4QY6RXhpZgAATU0AKgAAAAgADQEAAAMAAAABD30AAA...</td>\n",
       "    </tr>\n",
       "    <tr>\n",
       "      <th>18</th>\n",
       "      <td>2</td>\n",
       "      <td>04</td>\n",
       "      <td>/9j/4QaQRXhpZgAATU0AKgAAAAgADQEAAAMAAAABD30AAA...</td>\n",
       "    </tr>\n",
       "    <tr>\n",
       "      <th>19</th>\n",
       "      <td>2</td>\n",
       "      <td>05</td>\n",
       "      <td>/9j/4QVWRXhpZgAATU0AKgAAAAgADQEAAAMAAAABD30AAA...</td>\n",
       "    </tr>\n",
       "    <tr>\n",
       "      <th>20</th>\n",
       "      <td>2</td>\n",
       "      <td>06</td>\n",
       "      <td>/9j/4QZ3RXhpZgAATU0AKgAAAAgADQEAAAMAAAABD30AAA...</td>\n",
       "    </tr>\n",
       "    <tr>\n",
       "      <th>21</th>\n",
       "      <td>2</td>\n",
       "      <td>07</td>\n",
       "      <td>/9j/4QXbRXhpZgAATU0AKgAAAAgADQEAAAMAAAABD30AAA...</td>\n",
       "    </tr>\n",
       "    <tr>\n",
       "      <th>22</th>\n",
       "      <td>2</td>\n",
       "      <td>08</td>\n",
       "      <td>/9j/4QaORXhpZgAATU0AKgAAAAgADQEAAAMAAAABD30AAA...</td>\n",
       "    </tr>\n",
       "    <tr>\n",
       "      <th>23</th>\n",
       "      <td>2</td>\n",
       "      <td>09</td>\n",
       "      <td>/9j/4QWIRXhpZgAATU0AKgAAAAgADQEAAAMAAAABD30AAA...</td>\n",
       "    </tr>\n",
       "    <tr>\n",
       "      <th>24</th>\n",
       "      <td>2</td>\n",
       "      <td>10</td>\n",
       "      <td>/9j/4QWARXhpZgAATU0AKgAAAAgADQEAAAMAAAABD30AAA...</td>\n",
       "    </tr>\n",
       "    <tr>\n",
       "      <th>25</th>\n",
       "      <td>2</td>\n",
       "      <td>11</td>\n",
       "      <td>/9j/4QZwRXhpZgAATU0AKgAAAAgADQEAAAMAAAABD30AAA...</td>\n",
       "    </tr>\n",
       "    <tr>\n",
       "      <th>26</th>\n",
       "      <td>2</td>\n",
       "      <td>12</td>\n",
       "      <td>/9j/4QZlRXhpZgAATU0AKgAAAAgADQEAAAMAAAABD30AAA...</td>\n",
       "    </tr>\n",
       "    <tr>\n",
       "      <th>27</th>\n",
       "      <td>2</td>\n",
       "      <td>13</td>\n",
       "      <td>/9j/4QV+RXhpZgAATU0AKgAAAAgADQEAAAMAAAABD30AAA...</td>\n",
       "    </tr>\n",
       "    <tr>\n",
       "      <th>28</th>\n",
       "      <td>2</td>\n",
       "      <td>14</td>\n",
       "      <td>/9j/4QbYRXhpZgAATU0AKgAAAAgADQEAAAMAAAABD30AAA...</td>\n",
       "    </tr>\n",
       "    <tr>\n",
       "      <th>29</th>\n",
       "      <td>3</td>\n",
       "      <td>00</td>\n",
       "      <td>/9j/4QbPRXhpZgAATU0AKgAAAAgADAEAAAMAAAABFkAAAA...</td>\n",
       "    </tr>\n",
       "  </tbody>\n",
       "</table>\n",
       "</div>"
      ],
      "text/plain": [
       "    file line                                            encoded\n",
       "0      1   00  /9j/4QczRXhpZgAATU0AKgAAAAgADQEAAAMAAAABD5YAAA...\n",
       "1      1   01  /9j/4QZBRXhpZgAATU0AKgAAAAgADQEAAAMAAAABD5YAAA...\n",
       "2      1   02  /9j/4QX5RXhpZgAATU0AKgAAAAgADQEAAAMAAAABD5YAAA...\n",
       "3      1   03  /9j/4QYvRXhpZgAATU0AKgAAAAgADQEAAAMAAAABD5YAAA...\n",
       "4      1   04  /9j/4QZLRXhpZgAATU0AKgAAAAgADQEAAAMAAAABD5YAAA...\n",
       "5      1   05  /9j/4QVaRXhpZgAATU0AKgAAAAgADQEAAAMAAAABD5YAAA...\n",
       "6      1   06  /9j/4QVqRXhpZgAATU0AKgAAAAgADQEAAAMAAAABD5YAAA...\n",
       "7      1   07  /9j/4QX5RXhpZgAATU0AKgAAAAgADQEAAAMAAAABD5YAAA...\n",
       "8      1   08  /9j/4QWRRXhpZgAATU0AKgAAAAgADQEAAAMAAAABD5YAAA...\n",
       "9      1   09  /9j/4QZyRXhpZgAATU0AKgAAAAgADQEAAAMAAAABD5YAAA...\n",
       "10     1   10  /9j/4QZRRXhpZgAATU0AKgAAAAgADQEAAAMAAAABD5YAAA...\n",
       "11     1   11  /9j/4QZ1RXhpZgAATU0AKgAAAAgADQEAAAMAAAABD5YAAA...\n",
       "12     1   12  /9j/4QVrRXhpZgAATU0AKgAAAAgADQEAAAMAAAABD5YAAA...\n",
       "13     1   13  /9j/4QaFRXhpZgAATU0AKgAAAAgADQEAAAMAAAABD5YAAA...\n",
       "14     2   00  /9j/4QcyRXhpZgAATU0AKgAAAAgADQEAAAMAAAABD30AAA...\n",
       "15     2   01  /9j/4QVORXhpZgAATU0AKgAAAAgADQEAAAMAAAABD30AAA...\n",
       "16     2   02  /9j/4QX+RXhpZgAATU0AKgAAAAgADQEAAAMAAAABD30AAA...\n",
       "17     2   03  /9j/4QY6RXhpZgAATU0AKgAAAAgADQEAAAMAAAABD30AAA...\n",
       "18     2   04  /9j/4QaQRXhpZgAATU0AKgAAAAgADQEAAAMAAAABD30AAA...\n",
       "19     2   05  /9j/4QVWRXhpZgAATU0AKgAAAAgADQEAAAMAAAABD30AAA...\n",
       "20     2   06  /9j/4QZ3RXhpZgAATU0AKgAAAAgADQEAAAMAAAABD30AAA...\n",
       "21     2   07  /9j/4QXbRXhpZgAATU0AKgAAAAgADQEAAAMAAAABD30AAA...\n",
       "22     2   08  /9j/4QaORXhpZgAATU0AKgAAAAgADQEAAAMAAAABD30AAA...\n",
       "23     2   09  /9j/4QWIRXhpZgAATU0AKgAAAAgADQEAAAMAAAABD30AAA...\n",
       "24     2   10  /9j/4QWARXhpZgAATU0AKgAAAAgADQEAAAMAAAABD30AAA...\n",
       "25     2   11  /9j/4QZwRXhpZgAATU0AKgAAAAgADQEAAAMAAAABD30AAA...\n",
       "26     2   12  /9j/4QZlRXhpZgAATU0AKgAAAAgADQEAAAMAAAABD30AAA...\n",
       "27     2   13  /9j/4QV+RXhpZgAATU0AKgAAAAgADQEAAAMAAAABD30AAA...\n",
       "28     2   14  /9j/4QbYRXhpZgAATU0AKgAAAAgADQEAAAMAAAABD30AAA...\n",
       "29     3   00  /9j/4QbPRXhpZgAATU0AKgAAAAgADAEAAAMAAAABFkAAAA..."
      ]
     },
     "execution_count": 156,
     "metadata": {},
     "output_type": "execute_result"
    }
   ],
   "source": [
    "images_encoded['file'] = images_encoded['file'].astype('int')\n",
    "images_encoded = images_encoded.sort_values(by=['file', 'line'])\n",
    "images_encoded = images_encoded.reset_index(drop=True)\n",
    "images_encoded.head(30)"
   ]
  },
  {
   "cell_type": "markdown",
   "id": "bd51de42-7ecf-4171-88fd-cc78fb803632",
   "metadata": {},
   "source": [
    "## Zero-shot llm"
   ]
  },
  {
   "cell_type": "code",
   "execution_count": 157,
   "id": "56c01d37-e85d-45ee-b6c8-9e92b5078e87",
   "metadata": {
    "tags": []
   },
   "outputs": [],
   "source": [
    "prompt = \"\"\"\n",
    "    Recognize the text from the image:\n",
    "    ```plaintext\n",
    "\"\"\"\n",
    "\n",
    "\n",
    "# I didn't consider the header.. I'm unsure whether we need to include in the analysis.\n",
    "prompt_complex = \"\"\"\n",
    "    Recognize the text from the image:\n",
    "    \n",
    "    Tips:\n",
    "    It's an old Belgian document written in French.\n",
    "    Unless the text starts with \"Arrêté le \\d{2} \\w+ \\d{4}( \\w+)? servais\" or some cells contain notes, each cell in the image usually contains the following information\n",
    "    - Number / date / Family Name/ First Name/ Location/ Date/ One or more full names. Often ends with \"& autres\"/number/ number/number/number/number with a year/ number with a year/ date/date/number/date/number\n",
    "\"\"\""
   ]
  },
  {
   "cell_type": "code",
   "execution_count": 158,
   "id": "73f51be1-2815-4280-ab50-4a909baf7016",
   "metadata": {
    "tags": []
   },
   "outputs": [],
   "source": [
    "def callOpenAI(prompt, max_tokens=800, base64_image=None):\n",
    "    headers = {\n",
    "        \"Content-Type\": \"application/json\",\n",
    "        \"Authorization\": f\"Bearer {openai_API_KEY}\"\n",
    "    } \n",
    "    model_vision = \"gpt-4o\"\n",
    "    payload = {\n",
    "        \"model\": model_vision, # only gpt-4o can handle images\n",
    "        \"messages\": [\n",
    "        {\n",
    "            \"role\": \"user\",\n",
    "            \"content\": [\n",
    "            {\n",
    "                \"type\": \"text\",\n",
    "                \"text\": prompt\n",
    "            },\n",
    "            {\n",
    "                \"type\": \"image_url\",\n",
    "                \"image_url\": {\n",
    "                \"url\": f\"data:image/jpeg;base64,{base64_image}\"\n",
    "                }\n",
    "            }\n",
    "            ]\n",
    "        }\n",
    "        ],\n",
    "        \"max_tokens\": max_tokens,\n",
    "        \"temperature\": 0\n",
    "    }\n",
    "    response = requests.post(\"https://api.openai.com/v1/chat/completions\", headers=headers, json=payload)\n",
    "    try:\n",
    "        return response.json()[\"choices\"][0][\"message\"][\"content\"]\n",
    "    except:\n",
    "        print(response.json()[\"error\"][\"message\"])"
   ]
  },
  {
   "cell_type": "code",
   "execution_count": 159,
   "id": "7a94328e",
   "metadata": {},
   "outputs": [],
   "source": [
    "def callPostProcessing(max_tokens=800, prompt_parameter = None):\n",
    "    headers = {\n",
    "        \"Content-Type\": \"application/json\",\n",
    "        \"Authorization\": f\"Bearer {openai_API_KEY}\"\n",
    "    } \n",
    "    payload = {\n",
    "        \"model\": \"gpt-4o\",\n",
    "        \"messages\": [\n",
    "        {\n",
    "            \"role\": \"user\",\n",
    "            \"content\": [\n",
    "            {\n",
    "                \"type\": \"text\",\n",
    "                \"text\": f\"\"\"This is an output from you. Clean it such that we only have the table without any separators, no comment from you: {prompt_parameter}\n",
    "                \"\"\"\n",
    "            }\n",
    "            ]\n",
    "        }\n",
    "        ],\n",
    "        \"max_tokens\": max_tokens,\n",
    "        \"temperature\": 0\n",
    "    }\n",
    "    response = requests.post(\"https://api.openai.com/v1/chat/completions\", headers=headers, json=payload)\n",
    "    try:\n",
    "        return response.json()[\"choices\"][0][\"message\"][\"content\"]\n",
    "    except:\n",
    "        print(response.json()[\"error\"][\"message\"])\n"
   ]
  },
  {
   "cell_type": "code",
   "execution_count": 160,
   "id": "7120cada-d022-4d01-8fa4-241783fbc77e",
   "metadata": {
    "tags": []
   },
   "outputs": [],
   "source": [
    "test = callOpenAI(prompt=prompt, max_tokens=800, base64_image = images_encoded[(images_encoded['file']==1) & (images_encoded['line']== '01')].encoded.values[0])"
   ]
  },
  {
   "cell_type": "code",
   "execution_count": 161,
   "id": "683579cb-2bae-4a69-8271-ce4e67519e52",
   "metadata": {
    "tags": []
   },
   "outputs": [
    {
     "name": "stdout",
     "output_type": "stream",
     "text": [
      "The text in the image appears to be:\n",
      "\n",
      "\"Societé le vingt huit octobre 1919\"\n"
     ]
    }
   ],
   "source": [
    "print(test)"
   ]
  },
  {
   "cell_type": "code",
   "execution_count": 162,
   "id": "b4eaa1fd-7e4e-40fc-9093-28be03d3f98e",
   "metadata": {
    "tags": []
   },
   "outputs": [
    {
     "name": "stdout",
     "output_type": "stream",
     "text": [
      "The text in the image reads:\n",
      "\n",
      "\"Arrêté le vingt huit octobre 1919 servais\"\n"
     ]
    }
   ],
   "source": [
    "test_complex = callOpenAI(prompt=prompt_complex, max_tokens=800, base64_image = images_encoded[(images_encoded['file']==1) & (images_encoded['line']== '01')].encoded.values[0])\n",
    "print(test_complex)"
   ]
  },
  {
   "cell_type": "code",
   "execution_count": 163,
   "id": "1df227e2-68fa-4ba2-9397-150926ec23e0",
   "metadata": {
    "tags": []
   },
   "outputs": [],
   "source": [
    "test_path = image_folder+'/example1_01.jpg'"
   ]
  },
  {
   "cell_type": "markdown",
   "id": "dbd1af15-25ff-4636-800b-599ef2d986f1",
   "metadata": {},
   "source": [
    "## EasyOCR"
   ]
  },
  {
   "cell_type": "code",
   "execution_count": 148,
   "id": "2bdaf499-ac45-438e-bb41-04d45d53f78c",
   "metadata": {
    "tags": []
   },
   "outputs": [
    {
     "data": {
      "text/plain": [
       "<matplotlib.image.AxesImage at 0x35fe5b750>"
      ]
     },
     "execution_count": 148,
     "metadata": {},
     "output_type": "execute_result"
    },
    {
     "data": {
      "image/png": "[encoded data removed]",
      "text/plain": [
       "<Figure size 640x480 with 1 Axes>"
      ]
     },
     "metadata": {},
     "output_type": "display_data"
    }
   ],
   "source": [
    "test_image = cv2.imread(test_path)\n",
    "plt.imshow(test_image)"
   ]
  },
  {
   "cell_type": "code",
   "execution_count": 164,
   "id": "e1baa4c9-2e16-47bf-aed6-47a4c0de1807",
   "metadata": {},
   "outputs": [],
   "source": [
    "def easyOCR(image_path):\n",
    "    reader = easyocr.Reader(['fr'])\n",
    "    img = cv2.imread(image_path)\n",
    "    results = reader.readtext(img)\n",
    "    output = []\n",
    "    for res in results:\n",
    "        det, conf = res[1], res[2]\n",
    "        output.append((det, round(conf, 2))) \n",
    "    text = ' '.join([i[0] for i in output])\n",
    "    return text"
   ]
  },
  {
   "cell_type": "code",
   "execution_count": 165,
   "id": "53c847ce-031d-44c9-8ac6-992110b03037",
   "metadata": {
    "tags": []
   },
   "outputs": [],
   "source": [
    "test_ocr = easyOCR(test_path)"
   ]
  },
  {
   "cell_type": "code",
   "execution_count": 166,
   "id": "6f85318b-55be-419d-b80a-0e8c5b861779",
   "metadata": {
    "tags": []
   },
   "outputs": [
    {
     "data": {
      "text/plain": [
       "'~Bcrta` 8 oetolz 1919 d4earuey vicytAul'"
      ]
     },
     "execution_count": 166,
     "metadata": {},
     "output_type": "execute_result"
    }
   ],
   "source": [
    "test_ocr"
   ]
  },
  {
   "cell_type": "markdown",
   "id": "09134009-83a9-4ed0-b724-d9a4096ebe7d",
   "metadata": {},
   "source": [
    "### Pytesseract"
   ]
  },
  {
   "cell_type": "code",
   "execution_count": 167,
   "id": "e86c0ee3-034b-446d-aa51-3e5e6e348fb1",
   "metadata": {
    "tags": []
   },
   "outputs": [],
   "source": [
    "def pytesseractOCR(image_path):\n",
    "    try:\n",
    "        image = Image.open(image_path)\n",
    "        text = pytesseract.image_to_string(image)\n",
    "        return text\n",
    "    except:\n",
    "        print(\"[ERROR] pytesseractOCR failed! (should be installed)\")\n",
    "        return \"\""
   ]
  },
  {
   "cell_type": "code",
   "execution_count": 168,
   "id": "604ee6db-861b-4dd0-afee-3953e24ba8c3",
   "metadata": {
    "tags": []
   },
   "outputs": [
    {
     "name": "stdout",
     "output_type": "stream",
     "text": [
      "[ERROR] pytesseractOCR failed! (should be installed)\n",
      "\n"
     ]
    }
   ],
   "source": [
    "test_pytesseract = pytesseractOCR(image_path=test_path)\n",
    "print(test_pytesseract)"
   ]
  },
  {
   "cell_type": "markdown",
   "id": "061630dd-6446-4a62-9b39-bd87c86a99f4",
   "metadata": {},
   "source": [
    "### Keras\n",
    "\n",
    "Not good for non-english?"
   ]
  },
  {
   "cell_type": "code",
   "execution_count": 172,
   "id": "e561f951-54a9-4d73-b778-41f9dbcdbe0e",
   "metadata": {
    "tags": []
   },
   "outputs": [],
   "source": [
    "def kerasOCR(image_path):\n",
    "    pipeline = keras_ocr.pipeline.Pipeline()\n",
    "    image = keras_ocr.tools.read(image_path)\n",
    "    prediction_groups = pipeline.recognize([image])\n",
    "    words = []\n",
    "    for line in prediction_groups[0]:\n",
    "        for word in line:\n",
    "            try:\n",
    "                if isinstance(word[0], str):\n",
    "                    words.append(word[0])\n",
    "            except IndexError:\n",
    "                continue\n",
    "    text = ' '.join(words)\n",
    "    return text"
   ]
  },
  {
   "cell_type": "code",
   "execution_count": 173,
   "id": "82c872cd-131c-4bc4-96cf-2dd2e62e0f59",
   "metadata": {
    "tags": []
   },
   "outputs": [
    {
     "name": "stdout",
     "output_type": "stream",
     "text": [
      "Looking for /Users/serenekim/.keras-ocr/craft_mlt_25k.h5\n",
      "WARNING:tensorflow:From /opt/anaconda3/lib/python3.11/site-packages/tensorflow/python/util/dispatch.py:1260: resize_bilinear (from tensorflow.python.ops.image_ops_impl) is deprecated and will be removed in a future version.\n",
      "Instructions for updating:\n",
      "Use `tf.image.resize(...method=ResizeMethod.BILINEAR...)` instead.\n",
      "Looking for /Users/serenekim/.keras-ocr/crnn_kurapan.h5\n",
      "1/1 [==============================] - 1s 806ms/step\n",
      "1/1 [==============================] - 1s 751ms/step\n",
      "d r p o a g\n"
     ]
    }
   ],
   "source": [
    "test_keras = kerasOCR(image_path=test_path)\n",
    "print(test_keras)"
   ]
  },
  {
   "cell_type": "markdown",
   "id": "923c9beb-a384-42fc-8a62-791c4f1379a4",
   "metadata": {},
   "source": [
    "# Pipeline"
   ]
  },
  {
   "cell_type": "code",
   "execution_count": 113,
   "id": "4bd38596",
   "metadata": {},
   "outputs": [
    {
     "name": "stdout",
     "output_type": "stream",
     "text": [
      "File: 1\n",
      "Line: 00\n",
      "OpenAI Complex: Here is the transcribed text from the image:\n",
      "\n",
      "```\n",
      "N° d'ordre (1) | DATE DU DÉPÔT des DÉCLARATIONS. | DÉSIGNATION DES PERSONNES DÉCÉDÉES, OU ABSENTES. | DATE DU DÉCÈS ou du JUGEMENT D'ENVOI en possession, en cas d'absence. | NOMS, PRÉNOMS ET DEMEURES DES PARTIES DÉCLARANTES. | DROITS DE SUCCESSION EN LIGNE COLLATERALE et de MUTATION EN LIGNE DIRECTE. | DROIT DE MUTATION par décès. | NUMÉROS des DÉCLARATIONS | DATE de l'exigibilité des droits. | NUMÉROS de la consignation des droits au somnier n° 25. | RECETTE des DROITS ET AMENDES. | DATE | N° | CAUTIONNEMENTS. NUMÉROS de la consignation au somnier n° 30. | OBSERVATIONS. (Les déclarations qui figurent à l'état n° 11 doivent être énoncées en exécution, dans la présente colonne.)\n",
      "```\n",
      "\n",
      "This transcription captures the headers of the columns in the document.\n",
      "Line: 01\n",
      "OpenAI Complex: The text in the image reads:\n",
      "\n",
      "\"Arrêté le vingt huit octobre 1919 servais\"\n",
      "Line: 02\n",
      "OpenAI Complex: The text in the image reads:\n",
      "\n",
      "\"Arrêté le vingt neuf octobre 1919 servais\"\n",
      "Line: 03\n",
      "OpenAI Complex: Here is the transcribed text from the image:\n",
      "\n",
      "```\n",
      "398 trente octobre Herrent Alphonse Opheim, 29 7bre 13 Heverard Clovis & autres 2230 504 225 11 7bre 19 Faseilpo 363\n",
      "```\n",
      "Line: 04\n",
      "OpenAI Complex: Here is the transcribed text from the image:\n",
      "\n",
      "```\n",
      "398½  d  Lesévre  Jules  Brané-L  5 janvier  Brolière  1919\n",
      "```\n",
      "Line: 05\n",
      "OpenAI Complex: The text in the image reads:\n",
      "\n",
      "\"Arrêté le trente octobre 1919 servais\"\n",
      "Line: 06\n",
      "OpenAI Complex: The text in the image reads:\n",
      "\n",
      "\"Arrêté le trente un octobre 1929 servais\"\n",
      "Line: 07\n",
      "OpenAI Complex: The text in the image reads:\n",
      "\n",
      "\"Arrêté le premier novembre 1919 Toussaint Servais\"\n",
      "Line: 08\n",
      "OpenAI Complex: The text in the image reads:\n",
      "\n",
      "\"Arrêté le deux novembre 1919 Dimanche servais\"\n",
      "Line: 09\n",
      "OpenAI Complex: Here is the transcribed text from the image:\n",
      "\n",
      "```\n",
      "399  Crois. 6bre.  Desmedt  Jeanne  Nivelles  13 mai 1914  Willebeke Elise & autres  9180  630  8910  13 octobre 1924  10 février 1920  75\n",
      "```\n",
      "Line: 10\n",
      "OpenAI Complex: Here is the transcribed text from the image:\n",
      "\n",
      "```\n",
      "400 5 Monseu Raoul Oscar Latour 1 8 1918 Monseur Arthur 699010 21476 699083 15 3 avril 1919\n",
      "```\n",
      "Line: 11\n",
      "OpenAI Complex: Here is the transcribed text from the image:\n",
      "\n",
      "```\n",
      "401\n",
      "Bouly\n",
      "Henri\n",
      "Marie l'Alloux\n",
      "26 février 1919\n",
      "Bouly Marie Félix\n",
      "2240\n",
      "2246\n",
      "15\n",
      "26\n",
      "26 2 1919\n",
      "Non favorables\n",
      "```\n",
      "Line: 12\n",
      "OpenAI Complex: The text in the image reads:\n",
      "\n",
      "\"Arrêté le trois novembre 1919 servais\"\n",
      "Line: 13\n",
      "OpenAI Complex: Here is the transcribed text from the image:\n",
      "\n",
      "```\n",
      "40% qualite qta Godart\n",
      "Renselde 12 mai 1919\n",
      "Charn Gustave\n",
      "14137 14137 33 1/2 16 20 12 mai 1919 16 avril 1940 24\n",
      "```\n"
     ]
    }
   ],
   "source": [
    "gpt4o_texts = []\n",
    "easyOCR_texts = []\n",
    "# pytesseract_texts = []\n",
    "# kerasOCR_texts = []\n",
    "\n",
    "# for file in images_encoded['file'].unique():\n",
    "for file in [1]:\n",
    "    print(f\"File: {file}\")\n",
    "    for line in images_encoded[images_encoded['file'] == file]['line']:\n",
    "        print(f\"Line: {line}\")\n",
    "        image_path = image_folder+f'/example{file}_{line}.jpg'\n",
    "        input_encoded_image = images_encoded[(images_encoded['file'] == file) & (images_encoded['line'] == line) ]['encoded'].values[0]\n",
    "        \n",
    "###### GPT-4o\n",
    "        line_text_gpt4o = callOpenAI(prompt=prompt, max_tokens=800, base64_image = input_encoded_image)\n",
    "        # print(f\"OpenAI: {line_text_gpt4o}\")\n",
    "        postprocessed_gpt40_text = callPostProcessing(max_tokens=800, prompt_parameter = line_text_gpt4o)\n",
    "        gpt4o_texts.append({'file': file, 'line': line, 'gpt4o_text': postprocessed_gpt40_text})\n",
    "        line_text_complex = callOpenAI(prompt=prompt_complex, max_tokens=800, base64_image = input_encoded_image)\n",
    "        print(f\"OpenAI Complex: {line_text_complex}\")\n",
    "\n",
    "###### EasyOCR\n",
    "        line_text_easyOCR = easyOCR(image_path)\n",
    "    # Question: Will I need to postprocess the EasyOCR text?\n",
    "        easyOCR_texts.append({'file': file, 'line': line, 'easyOCR_text': line_text_easyOCR})\n",
    "        # print(f\"EasyOCR: {line_text_easyOCR}\")\n",
    "\n",
    "###### Pytesseract\n",
    "        # line_text_pytesseract = pytesseractOCR(image_path)\n",
    "        # print(f\"Pytesseract: {line_text_pytesseract}\")\n",
    "\n",
    "###### KerasOCR\n",
    "        # line_text_keras = kerasOCR(image_path)\n",
    "        # kerasOCR_texts.append({'file': file, 'line': line, 'kerasOCR_text': line_text_keras})\n",
    "        # print(f\"KerasOCR: {line_text_keras}\")\n",
    "\n",
    "gpt4o_texts_df = pd.DataFrame(gpt4o_texts)\n",
    "easyOCR_texts_df = pd.DataFrame(easyOCR_texts)"
   ]
  },
  {
   "cell_type": "code",
   "execution_count": 114,
   "id": "91a1c919",
   "metadata": {},
   "outputs": [
    {
     "data": {
      "text/html": [
       "<div>\n",
       "<style scoped>\n",
       "    .dataframe tbody tr th:only-of-type {\n",
       "        vertical-align: middle;\n",
       "    }\n",
       "\n",
       "    .dataframe tbody tr th {\n",
       "        vertical-align: top;\n",
       "    }\n",
       "\n",
       "    .dataframe thead th {\n",
       "        text-align: right;\n",
       "    }\n",
       "</style>\n",
       "<table border=\"1\" class=\"dataframe\">\n",
       "  <thead>\n",
       "    <tr style=\"text-align: right;\">\n",
       "      <th></th>\n",
       "      <th>file</th>\n",
       "      <th>line</th>\n",
       "      <th>gpt4o_text</th>\n",
       "    </tr>\n",
       "  </thead>\n",
       "  <tbody>\n",
       "    <tr>\n",
       "      <th>0</th>\n",
       "      <td>1</td>\n",
       "      <td>00</td>\n",
       "      <td>N° d'ordre\\nDATE DU DÉPÔT des DÉCLARATIONS\\nDÉ...</td>\n",
       "    </tr>\n",
       "    <tr>\n",
       "      <th>1</th>\n",
       "      <td>1</td>\n",
       "      <td>01</td>\n",
       "      <td>Societé le vingt huit octobre 1919</td>\n",
       "    </tr>\n",
       "    <tr>\n",
       "      <th>2</th>\n",
       "      <td>1</td>\n",
       "      <td>02</td>\n",
       "      <td>Arrêté le vingt neuf octobre 1919 Servais</td>\n",
       "    </tr>\n",
       "    <tr>\n",
       "      <th>3</th>\n",
       "      <td>1</td>\n",
       "      <td>03</td>\n",
       "      <td>398 treinte octubre Herrero Alphonse Opheim 29...</td>\n",
       "    </tr>\n",
       "    <tr>\n",
       "      <th>4</th>\n",
       "      <td>1</td>\n",
       "      <td>04</td>\n",
       "      <td>398½  d  Lefèvre  Jules  Brulé-L.  8 janvier  ...</td>\n",
       "    </tr>\n",
       "    <tr>\n",
       "      <th>5</th>\n",
       "      <td>1</td>\n",
       "      <td>05</td>\n",
       "      <td>Avant le trente octobre 1919</td>\n",
       "    </tr>\n",
       "    <tr>\n",
       "      <th>6</th>\n",
       "      <td>1</td>\n",
       "      <td>06</td>\n",
       "      <td>Soresti le trent un octob 1929 Servais</td>\n",
       "    </tr>\n",
       "    <tr>\n",
       "      <th>7</th>\n",
       "      <td>1</td>\n",
       "      <td>07</td>\n",
       "      <td>Sorreté le premier novembre 1919 Toussaint Ser...</td>\n",
       "    </tr>\n",
       "    <tr>\n",
       "      <th>8</th>\n",
       "      <td>1</td>\n",
       "      <td>08</td>\n",
       "      <td>Arresté le deux novembre 1919 Dimanche Servais</td>\n",
       "    </tr>\n",
       "    <tr>\n",
       "      <th>9</th>\n",
       "      <td>1</td>\n",
       "      <td>09</td>\n",
       "      <td>```\\n399 Crois. 6bre. Desmedt Jeanne Nivelles ...</td>\n",
       "    </tr>\n",
       "    <tr>\n",
       "      <th>10</th>\n",
       "      <td>1</td>\n",
       "      <td>10</td>\n",
       "      <td>400 Monseu Paul Oscar\\n1 août 1918 Monseur Arthur</td>\n",
       "    </tr>\n",
       "    <tr>\n",
       "      <th>11</th>\n",
       "      <td>1</td>\n",
       "      <td>11</td>\n",
       "      <td>401 Boully Henri Marie Félix</td>\n",
       "    </tr>\n",
       "    <tr>\n",
       "      <th>12</th>\n",
       "      <td>1</td>\n",
       "      <td>12</td>\n",
       "      <td>Avant le trois novembre 1919 Servais</td>\n",
       "    </tr>\n",
       "    <tr>\n",
       "      <th>13</th>\n",
       "      <td>1</td>\n",
       "      <td>13</td>\n",
       "      <td>40% qualite qta Godart\\nLes déclarations recti...</td>\n",
       "    </tr>\n",
       "  </tbody>\n",
       "</table>\n",
       "</div>"
      ],
      "text/plain": [
       "    file line                                         gpt4o_text\n",
       "0      1   00  N° d'ordre\\nDATE DU DÉPÔT des DÉCLARATIONS\\nDÉ...\n",
       "1      1   01                 Societé le vingt huit octobre 1919\n",
       "2      1   02          Arrêté le vingt neuf octobre 1919 Servais\n",
       "3      1   03  398 treinte octubre Herrero Alphonse Opheim 29...\n",
       "4      1   04  398½  d  Lefèvre  Jules  Brulé-L.  8 janvier  ...\n",
       "5      1   05                       Avant le trente octobre 1919\n",
       "6      1   06             Soresti le trent un octob 1929 Servais\n",
       "7      1   07  Sorreté le premier novembre 1919 Toussaint Ser...\n",
       "8      1   08     Arresté le deux novembre 1919 Dimanche Servais\n",
       "9      1   09  ```\\n399 Crois. 6bre. Desmedt Jeanne Nivelles ...\n",
       "10     1   10  400 Monseu Paul Oscar\\n1 août 1918 Monseur Arthur\n",
       "11     1   11                       401 Boully Henri Marie Félix\n",
       "12     1   12               Avant le trois novembre 1919 Servais\n",
       "13     1   13  40% qualite qta Godart\\nLes déclarations recti..."
      ]
     },
     "execution_count": 114,
     "metadata": {},
     "output_type": "execute_result"
    }
   ],
   "source": [
    "gpt4o_texts_df"
   ]
  },
  {
   "cell_type": "code",
   "execution_count": 115,
   "id": "e3f3222b",
   "metadata": {},
   "outputs": [
    {
     "data": {
      "text/html": [
       "<div>\n",
       "<style scoped>\n",
       "    .dataframe tbody tr th:only-of-type {\n",
       "        vertical-align: middle;\n",
       "    }\n",
       "\n",
       "    .dataframe tbody tr th {\n",
       "        vertical-align: top;\n",
       "    }\n",
       "\n",
       "    .dataframe thead th {\n",
       "        text-align: right;\n",
       "    }\n",
       "</style>\n",
       "<table border=\"1\" class=\"dataframe\">\n",
       "  <thead>\n",
       "    <tr style=\"text-align: right;\">\n",
       "      <th></th>\n",
       "      <th>file</th>\n",
       "      <th>line</th>\n",
       "      <th>easyOCR_text</th>\n",
       "    </tr>\n",
       "  </thead>\n",
       "  <tbody>\n",
       "    <tr>\n",
       "      <th>0</th>\n",
       "      <td>1</td>\n",
       "      <td>00</td>\n",
       "      <td>DÉSIGNATION DES PERSONNES DÉCÉDÉES OU AlSENTES...</td>\n",
       "    </tr>\n",
       "    <tr>\n",
       "      <th>1</th>\n",
       "      <td>1</td>\n",
       "      <td>01</td>\n",
       "      <td>~Bcrta` 8 oetolz 1919 d4earuey vicytAul</td>\n",
       "    </tr>\n",
       "    <tr>\n",
       "      <th>2</th>\n",
       "      <td>1</td>\n",
       "      <td>02</td>\n",
       "      <td>Jbsucala &amp; veyhmeuf ouoba  tg19 [eevœy</td>\n",
       "    </tr>\n",
       "    <tr>\n",
       "      <th>3</th>\n",
       "      <td>1</td>\n",
       "      <td>03</td>\n",
       "      <td>891 ta HBevcenk ~Bepkonssjk oj hain Hgoucoal Y...</td>\n",
       "    </tr>\n",
       "    <tr>\n",
       "      <th>4</th>\n",
       "      <td>1</td>\n",
       "      <td>04</td>\n",
       "      <td>TulL Bouuù Q \"Janer ~aobà Bhuile RRXR 26 aplul...</td>\n",
       "    </tr>\n",
       "    <tr>\n",
       "      <th>5</th>\n",
       "      <td>1</td>\n",
       "      <td>05</td>\n",
       "      <td>sueb' Q {cmEE oclb. 1419 dqune</td>\n",
       "    </tr>\n",
       "    <tr>\n",
       "      <th>6</th>\n",
       "      <td>1</td>\n",
       "      <td>06</td>\n",
       "      <td>Jsveaki @ bemlL un oelba_-1919 dexl'</td>\n",
       "    </tr>\n",
       "    <tr>\n",
       "      <th>7</th>\n",
       "      <td>1</td>\n",
       "      <td>07</td>\n",
       "      <td>kszeté &amp; fummlar nouembas_ 1919 ollsaams Vuser...</td>\n",
       "    </tr>\n",
       "    <tr>\n",
       "      <th>8</th>\n",
       "      <td>1</td>\n",
       "      <td>08</td>\n",
       "      <td>Joveal + Jeunx 2ouemba (949 Oùhanebe Fuuunù/</td>\n",
       "    </tr>\n",
       "    <tr>\n",
       "      <th>9</th>\n",
       "      <td>1</td>\n",
       "      <td>09</td>\n",
       "      <td>889 644 (esmedk Yenooz Yiveblu 43 m22 euupsek ...</td>\n",
       "    </tr>\n",
       "    <tr>\n",
       "      <th>10</th>\n",
       "      <td>1</td>\n",
       "      <td>10</td>\n",
       "      <td>hoo &gt; [Jonseme (ooul OJox/ 38n91 { qtu^ G90fio...</td>\n",
       "    </tr>\n",
       "    <tr>\n",
       "      <th>11</th>\n",
       "      <td>1</td>\n",
       "      <td>11</td>\n",
       "      <td>Hos &gt; ôBrz Bzzàùn € kejcsir| ~PBazu ablug 2244...</td>\n",
       "    </tr>\n",
       "    <tr>\n",
       "      <th>12</th>\n",
       "      <td>1</td>\n",
       "      <td>12</td>\n",
       "      <td>Jbsoah @  bzoû 9uve bo_ 1919 devevd</td>\n",
       "    </tr>\n",
       "    <tr>\n",
       "      <th>13</th>\n",
       "      <td>1</td>\n",
       "      <td>13</td>\n",
       "      <td>40x qualq8 [Bodazk Gensbl Raùc déelaralions re...</td>\n",
       "    </tr>\n",
       "  </tbody>\n",
       "</table>\n",
       "</div>"
      ],
      "text/plain": [
       "    file line                                       easyOCR_text\n",
       "0      1   00  DÉSIGNATION DES PERSONNES DÉCÉDÉES OU AlSENTES...\n",
       "1      1   01            ~Bcrta` 8 oetolz 1919 d4earuey vicytAul\n",
       "2      1   02             Jbsucala & veyhmeuf ouoba  tg19 [eevœy\n",
       "3      1   03  891 ta HBevcenk ~Bepkonssjk oj hain Hgoucoal Y...\n",
       "4      1   04  TulL Bouuù Q \"Janer ~aobà Bhuile RRXR 26 aplul...\n",
       "5      1   05                     sueb' Q {cmEE oclb. 1419 dqune\n",
       "6      1   06               Jsveaki @ bemlL un oelba_-1919 dexl'\n",
       "7      1   07  kszeté & fummlar nouembas_ 1919 ollsaams Vuser...\n",
       "8      1   08       Joveal + Jeunx 2ouemba (949 Oùhanebe Fuuunù/\n",
       "9      1   09  889 644 (esmedk Yenooz Yiveblu 43 m22 euupsek ...\n",
       "10     1   10  hoo > [Jonseme (ooul OJox/ 38n91 { qtu^ G90fio...\n",
       "11     1   11  Hos > ôBrz Bzzàùn € kejcsir| ~PBazu ablug 2244...\n",
       "12     1   12                Jbsoah @  bzoû 9uve bo_ 1919 devevd\n",
       "13     1   13  40x qualq8 [Bodazk Gensbl Raùc déelaralions re..."
      ]
     },
     "execution_count": 115,
     "metadata": {},
     "output_type": "execute_result"
    }
   ],
   "source": [
    "easyOCR_texts_df"
   ]
  },
  {
   "cell_type": "code",
   "execution_count": null,
   "id": "6cd94733",
   "metadata": {},
   "outputs": [],
   "source": []
  }
 ],
 "metadata": {
  "kernelspec": {
   "display_name": "Python 3 (ipykernel)",
   "language": "python",
   "name": "python3"
  },
  "language_info": {
   "codemirror_mode": {
    "name": "ipython",
    "version": 3
   },
   "file_extension": ".py",
   "mimetype": "text/x-python",
   "name": "python",
   "nbconvert_exporter": "python",
   "pygments_lexer": "ipython3",
   "version": "3.12.3"
  }
 },
 "nbformat": 4,
 "nbformat_minor": 5
}
