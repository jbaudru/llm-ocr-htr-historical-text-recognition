{
 "cells": [
  {
   "cell_type": "code",
   "execution_count": 1,
   "metadata": {},
   "outputs": [],
   "source": [
    "from openai import OpenAI\n",
    "import os\n",
    "import re\n",
    "import pandas as pd\n",
    "from dotenv import load_dotenv\n",
    "import requests\n",
    "import base64\n",
    "import subprocess\n",
    "from IPython.display import display, Image\n",
    "from PIL import Image as PILImage"
   ]
  },
  {
   "cell_type": "code",
   "execution_count": 2,
   "metadata": {},
   "outputs": [],
   "source": [
    "import cv2\n",
    "# import easyocr\n",
    "import matplotlib.pyplot as plt\n",
    "# import pytesseract\n",
    "# import keras_ocr"
   ]
  },
  {
   "cell_type": "code",
   "execution_count": 3,
   "metadata": {},
   "outputs": [],
   "source": [
    "# OpenAI\n",
    "load_dotenv() #get the environment \n",
    "openai_API_KEY = os.getenv(\"OPENAI_API_KEY\")\n",
    "openai_client = OpenAI(api_key=openai_API_KEY)"
   ]
  },
  {
   "cell_type": "code",
   "execution_count": 4,
   "metadata": {},
   "outputs": [],
   "source": [
    "path = os.path.dirname(os.getcwd()) # Parent directory\n",
    "ouput_folder = path+'/results/predictions'"
   ]
  },
  {
   "cell_type": "code",
   "execution_count": 5,
   "metadata": {},
   "outputs": [],
   "source": [
    "def get_outputs(output_path):   \n",
    "    outputs = {}\n",
    "    for output in os.listdir(output_path):\n",
    "        # Check if the current item is a file and ends with '.txt'\n",
    "        file_path = os.path.join(output_path, output)\n",
    "        if os.path.isfile(file_path) and output.endswith('.txt'):\n",
    "            filename = output.split('.')[0]\n",
    "            # Open the individual file and read its content\n",
    "            with open(file_path, 'r', encoding='utf-8') as f:\n",
    "                text = f.read()\n",
    "            outputs[filename] = text  # Store the filename and text in the dictionary\n",
    "    return outputs"
   ]
  },
  {
   "cell_type": "code",
   "execution_count": 6,
   "metadata": {},
   "outputs": [],
   "source": [
    "models = ['claude-3-5-sonnet-20240620', 'EasyOCR', 'gpt-4o', 'KerasOCR', 'Pytesseract', 'trOCR']\n",
    "prompts = ['one-example_prompt', 'two-example_prompt', 'zero-shot_complex-prompt', 'zero-shot_simple-prompt',\n",
    "                'refine_complex-prompt']\n",
    "outputs = {}\n",
    "for prompt in prompts:\n",
    "    outputs[prompt] = {}  # Initialize the dictionary for each prompt\n",
    "    for model in models:\n",
    "        output_path = f'{ouput_folder}/{prompt}/{model}'\n",
    "        outputs[prompt][model] = get_outputs(output_path)"
   ]
  },
  {
   "cell_type": "code",
   "execution_count": 47,
   "metadata": {},
   "outputs": [
    {
     "data": {
      "text/plain": [
       "dict_keys(['one-example_prompt', 'two-example_prompt', 'zero-shot_complex-prompt', 'zero-shot_simple-prompt', 'refine_complex-prompt'])"
      ]
     },
     "execution_count": 47,
     "metadata": {},
     "output_type": "execute_result"
    }
   ],
   "source": [
    "outputs.keys()"
   ]
  },
  {
   "cell_type": "code",
   "execution_count": 25,
   "metadata": {},
   "outputs": [],
   "source": [
    "def callPostProcessing(max_tokens=800, prompt_parameter = None):\n",
    "    headers = {\n",
    "        \"Content-Type\": \"application/json\",\n",
    "        \"Authorization\": f\"Bearer {openai_API_KEY}\"\n",
    "    } \n",
    "    payload = {\n",
    "        \"model\": \"gpt-4o\",\n",
    "        \"messages\": [\n",
    "        {\n",
    "            \"role\": \"user\",\n",
    "            \"content\": [\n",
    "            {\n",
    "                \"type\": \"text\",\n",
    "                \"text\": f\"\"\"This is an output from you. Clean it such that we only have the table without any separators, no comment from you: {prompt_parameter}\n",
    "                \"\"\"\n",
    "            }\n",
    "            ]\n",
    "        }\n",
    "        ],\n",
    "        \"max_tokens\": max_tokens,\n",
    "        \"temperature\": 0\n",
    "    }\n",
    "    response = requests.post(\"https://api.openai.com/v1/chat/completions\", headers=headers, json=payload)\n",
    "    try:\n",
    "        return response.json()[\"choices\"][0][\"message\"][\"content\"]\n",
    "    except:\n",
    "        print(response.json()[\"error\"][\"message\"])"
   ]
  },
  {
   "cell_type": "code",
   "execution_count": 53,
   "metadata": {},
   "outputs": [
    {
     "name": "stdout",
     "output_type": "stream",
     "text": [
      "Here's a recreation of the content of the table in the image:\n",
      "\n",
      "| N° | DATE DU DÉCÈS | DÉSIGNATION DES PERSONNES DÉCÉDÉES OU ABSENTES | DATE DE DÉCÈS ou de la disparition | NOMS, PRÉNOMS des héritiers ou légataires | DROITS DE SUCCESSION | DROIT DE MUTATION | NUMÉROS du sommier | DATE | RECETTE | OBSERVATIONS |\n",
      "|---|---------------|------------------------------------------------|-----------------------------------|-------------------------------------------|----------------------|---------------------|---------------------|------|---------|---------------|\n",
      "| | | NOM | PRÉNOMS | DOMICILE | | | ACTIF | PASSIF | RESTANT NET | VALEUR | de l'expiration du délai de rectification | de l'exigibilité des droits | DATE | N° | |\n",
      "| 403 | quatre 9bre | Payot | Antoinette | Braine l'Alleud | 14 mai 1919 | Payot Marie & autres | 16975 | 2950 | 11740 | 2011/1921 | 16 Db 1919 | 14 mars 1928 | | | |\n",
      "| 403² | d° | Paulus | Mélanie | Nivelles | 28 Janvier 1919 | Paulus François | 1971 | | 1971 | 191/1919 | \" | \" | 10 Db 1920 | 872 | |\n",
      "| 404 | d° | Vandermeers | Marie Anne | Clabecq | 4 avril 1918 | Voussure Edouard | 500 | | 500 | | 16 d° | 4 janvier 1928 | | | non passible |\n",
      "| | Arrêté le quatre novembre 1919 servais | | | | | | | | | | | | | | |\n",
      "| 405 | cinq 9bre | Lemoine | Pierre gh | Ittre | 24 8b 1918 | Lemoine Juliette & autres | 1885 | | 1885 | | 17 Db 1919 | 24 avril 1919 | | | non passible |\n",
      "| 406 | d° | Monnaye | Julie | Monstreux | 16 9bre 1911 | Monnaye Aimé & autres | Cessation d'usufruit | | | | \" | \" | 16 février 1920 | 37 | |\n",
      "| 407 | d° | Godeau née Painblanc | Clément | Oisquercq | 7 8b 1919 | Godeau Hortens & autres | 800 | | 800 | | 17 Dbre 1919 | 7 avril 1920 | | | non passible |\n",
      "| | Arrêté le cinq novembre 1919 servais | | | | | | | | | | | | | | |\n",
      "| | Arrêté le six novembre 1919 servais | | | | | | | | | | | | | | |\n",
      "| 408 | sept 9bre | Fontaine | Florent | Tubize | 19 octobre 1918 | Ronsmans Armande | 378 | 176 | 202 | | 19 Dbre 1919 | 15 avril 1919 | | | non passible |\n",
      "| 409 | d° | Allard | Prosper | Nivelles | 16 avril 1919 | Allard Marie | 7310 | | 7310 | | 19 d° | 14 juin 1920 | 13 mars 1923 | 54 | |\n",
      "| | Arrêté le sept novembre 1919 servais | | | | | | | | | | | | | | |\n",
      "| 410 | huit 9bre | Debutte | Justinien | Waterloo | 16 mai 1919 | Debutte Edmond & autres | 12437 | 369 | 12068 | | 20 d° | 16 mars 1920 | 29 9b 1923 | 252 | |\n"
     ]
    }
   ],
   "source": [
    "print(outputs[prompt][model]['transcription1'])"
   ]
  },
  {
   "cell_type": "code",
   "execution_count": 54,
   "metadata": {},
   "outputs": [],
   "source": [
    "# Immediately save the post-processed outputs\n",
    "\n",
    "# for prompt in prompts:\n",
    "#     for model in models:\n",
    "#         for key in outputs[prompt][model].keys():\n",
    "#             post = callPostProcessing(prompt_parameter=outputs[prompt][model][key])\n",
    "#             output_dir = os.path.join(path, 'results', 'postprocessed', prompt, model)\n",
    "#             os.makedirs(output_dir, exist_ok=True)\n",
    "#             file_path = os.path.join(output_dir, f\"{key}.txt\")\n",
    "#             with open(file_path, 'w', encoding='utf-8') as file:\n",
    "#                 file.write(post)\n",
    "\n",
    "# Time: 59m 4.8s"
   ]
  },
  {
   "cell_type": "markdown",
   "metadata": {},
   "source": [
    "* trOCR's outputs didn't get postprocessed well. Stil separators exsit. \n"
   ]
  }
 ],
 "metadata": {
  "kernelspec": {
   "display_name": "3.12.0",
   "language": "python",
   "name": "python3"
  },
  "language_info": {
   "codemirror_mode": {
    "name": "ipython",
    "version": 3
   },
   "file_extension": ".py",
   "mimetype": "text/x-python",
   "name": "python",
   "nbconvert_exporter": "python",
   "pygments_lexer": "ipython3",
   "version": "3.12.0"
  }
 },
 "nbformat": 4,
 "nbformat_minor": 2
}
