{
 "cells": [
  {
   "cell_type": "code",
   "execution_count": 38,
   "id": "89532b3f-3be7-463a-9702-0f4de8b6b902",
   "metadata": {
    "tags": []
   },
   "outputs": [],
   "source": [
    "import pandas as pd\n",
    "import os"
   ]
  },
  {
   "cell_type": "code",
   "execution_count": 76,
   "id": "36d6b31e-d09b-45ed-b2cc-b4820f47d223",
   "metadata": {
    "tags": []
   },
   "outputs": [],
   "source": [
    "district_path = os.path.join(os.getcwd(),'data_rag/Belgium_districts.xlsx')\n",
    "district_data = pd.ExcelFile(district_path)\n",
    "\n",
    "sheets_dict = {}\n",
    "for sheet_name in district_data.sheet_names:\n",
    "    globals()[sheet_name] = district_data.parse(sheet_name)\n",
    "    "
   ]
  },
  {
   "cell_type": "code",
   "execution_count": 78,
   "id": "bbee4159-cae3-4852-9165-49b1ef408722",
   "metadata": {
    "tags": []
   },
   "outputs": [],
   "source": [
    "provinces_df = district_data.parse('Provinces')\n",
    "\n",
    "merged_dataframes = []\n",
    "\n",
    "for sheet_name in district_data.sheet_names:\n",
    "    if sheet_name != 'Provinces' and sheet_name != 'Hainaut_post2019': # Since our documents are pre2019\n",
    "        df = district_data.parse(sheet_name)\n",
    "        \n",
    "        if 'Province_NL' in df.columns:\n",
    "            merge_column = 'Province_NL'\n",
    "        elif 'Province_FR' in df.columns:\n",
    "            merge_column = 'Province_FR'\n",
    "        elif 'Province' in df.columns: # For Brussels\n",
    "            merge_column = 'Province'\n",
    "        else:\n",
    "            continue  # Skip sheets without the required columns\n",
    "        merged_df = pd.merge(df, provinces_df, left_on=merge_column, right_on=merge_column, how='left')\n",
    "        merged_dataframes.append(merged_df)\n",
    "combined_df = pd.concat(merged_dataframes, ignore_index=True)\n",
    "combined_df = combined_df.drop('Municipality_FR', axis=1)"
   ]
  },
  {
   "cell_type": "code",
   "execution_count": 80,
   "id": "6f3ba790-da73-4cef-9295-bbe080b46e63",
   "metadata": {
    "tags": []
   },
   "outputs": [
    {
     "data": {
      "text/html": [
       "<div>\n",
       "<style scoped>\n",
       "    .dataframe tbody tr th:only-of-type {\n",
       "        vertical-align: middle;\n",
       "    }\n",
       "\n",
       "    .dataframe tbody tr th {\n",
       "        vertical-align: top;\n",
       "    }\n",
       "\n",
       "    .dataframe thead th {\n",
       "        text-align: right;\n",
       "    }\n",
       "</style>\n",
       "<table border=\"1\" class=\"dataframe\">\n",
       "  <thead>\n",
       "    <tr style=\"text-align: right;\">\n",
       "      <th></th>\n",
       "      <th>Province_NL</th>\n",
       "      <th>Arrondissement_NL</th>\n",
       "      <th>Arrondissement_FR</th>\n",
       "      <th>Municipality</th>\n",
       "      <th>Province</th>\n",
       "      <th>Province_FR</th>\n",
       "      <th>Province_DE</th>\n",
       "    </tr>\n",
       "  </thead>\n",
       "  <tbody>\n",
       "    <tr>\n",
       "      <th>0</th>\n",
       "      <td>Antwerpen</td>\n",
       "      <td>Antwerpen</td>\n",
       "      <td>Anvers</td>\n",
       "      <td>Aartselaar</td>\n",
       "      <td>Antwerpen</td>\n",
       "      <td>Anvers</td>\n",
       "      <td>Antwerpen</td>\n",
       "    </tr>\n",
       "    <tr>\n",
       "      <th>1</th>\n",
       "      <td>Antwerpen</td>\n",
       "      <td>Antwerpen</td>\n",
       "      <td>Anvers</td>\n",
       "      <td>Antwerpen</td>\n",
       "      <td>Antwerpen</td>\n",
       "      <td>Anvers</td>\n",
       "      <td>Antwerpen</td>\n",
       "    </tr>\n",
       "    <tr>\n",
       "      <th>2</th>\n",
       "      <td>Antwerpen</td>\n",
       "      <td>Antwerpen</td>\n",
       "      <td>Anvers</td>\n",
       "      <td>Boechout</td>\n",
       "      <td>Antwerpen</td>\n",
       "      <td>Anvers</td>\n",
       "      <td>Antwerpen</td>\n",
       "    </tr>\n",
       "    <tr>\n",
       "      <th>3</th>\n",
       "      <td>Antwerpen</td>\n",
       "      <td>Antwerpen</td>\n",
       "      <td>Anvers</td>\n",
       "      <td>Boom</td>\n",
       "      <td>Antwerpen</td>\n",
       "      <td>Anvers</td>\n",
       "      <td>Antwerpen</td>\n",
       "    </tr>\n",
       "    <tr>\n",
       "      <th>4</th>\n",
       "      <td>Antwerpen</td>\n",
       "      <td>Antwerpen</td>\n",
       "      <td>Anvers</td>\n",
       "      <td>Borsbeek</td>\n",
       "      <td>Antwerpen</td>\n",
       "      <td>Anvers</td>\n",
       "      <td>Antwerpen</td>\n",
       "    </tr>\n",
       "    <tr>\n",
       "      <th>...</th>\n",
       "      <td>...</td>\n",
       "      <td>...</td>\n",
       "      <td>...</td>\n",
       "      <td>...</td>\n",
       "      <td>...</td>\n",
       "      <td>...</td>\n",
       "      <td>...</td>\n",
       "    </tr>\n",
       "    <tr>\n",
       "      <th>577</th>\n",
       "      <td>Brussels Hoofdstedelijk Gewest</td>\n",
       "      <td>Brussels</td>\n",
       "      <td>Brussels</td>\n",
       "      <td>Schaarbeek</td>\n",
       "      <td>Brussels-Catpial-Region</td>\n",
       "      <td>Région de Bruxelles-Capitale</td>\n",
       "      <td>Region Brüssel-Hauptstadt</td>\n",
       "    </tr>\n",
       "    <tr>\n",
       "      <th>578</th>\n",
       "      <td>Brussels Hoofdstedelijk Gewest</td>\n",
       "      <td>Brussels</td>\n",
       "      <td>Brussels</td>\n",
       "      <td>Ukkel</td>\n",
       "      <td>Brussels-Catpial-Region</td>\n",
       "      <td>Région de Bruxelles-Capitale</td>\n",
       "      <td>Region Brüssel-Hauptstadt</td>\n",
       "    </tr>\n",
       "    <tr>\n",
       "      <th>579</th>\n",
       "      <td>Brussels Hoofdstedelijk Gewest</td>\n",
       "      <td>Brussels</td>\n",
       "      <td>Brussels</td>\n",
       "      <td>Watermaal-Bosvoorde</td>\n",
       "      <td>Brussels-Catpial-Region</td>\n",
       "      <td>Région de Bruxelles-Capitale</td>\n",
       "      <td>Region Brüssel-Hauptstadt</td>\n",
       "    </tr>\n",
       "    <tr>\n",
       "      <th>580</th>\n",
       "      <td>Brussels Hoofdstedelijk Gewest</td>\n",
       "      <td>Brussels</td>\n",
       "      <td>Brussels</td>\n",
       "      <td>Sint-Lambrechts-Woluwe</td>\n",
       "      <td>Brussels-Catpial-Region</td>\n",
       "      <td>Région de Bruxelles-Capitale</td>\n",
       "      <td>Region Brüssel-Hauptstadt</td>\n",
       "    </tr>\n",
       "    <tr>\n",
       "      <th>581</th>\n",
       "      <td>Brussels Hoofdstedelijk Gewest</td>\n",
       "      <td>Brussels</td>\n",
       "      <td>Brussels</td>\n",
       "      <td>Sint-Pieters-Woluwe</td>\n",
       "      <td>Brussels-Catpial-Region</td>\n",
       "      <td>Région de Bruxelles-Capitale</td>\n",
       "      <td>Region Brüssel-Hauptstadt</td>\n",
       "    </tr>\n",
       "  </tbody>\n",
       "</table>\n",
       "<p>582 rows × 7 columns</p>\n",
       "</div>"
      ],
      "text/plain": [
       "                        Province_NL Arrondissement_NL Arrondissement_FR  \\\n",
       "0                         Antwerpen         Antwerpen            Anvers   \n",
       "1                         Antwerpen         Antwerpen            Anvers   \n",
       "2                         Antwerpen         Antwerpen            Anvers   \n",
       "3                         Antwerpen         Antwerpen            Anvers   \n",
       "4                         Antwerpen         Antwerpen            Anvers   \n",
       "..                              ...               ...               ...   \n",
       "577  Brussels Hoofdstedelijk Gewest         Brussels          Brussels    \n",
       "578  Brussels Hoofdstedelijk Gewest         Brussels          Brussels    \n",
       "579  Brussels Hoofdstedelijk Gewest         Brussels          Brussels    \n",
       "580  Brussels Hoofdstedelijk Gewest         Brussels          Brussels    \n",
       "581  Brussels Hoofdstedelijk Gewest         Brussels          Brussels    \n",
       "\n",
       "               Municipality                 Province  \\\n",
       "0                Aartselaar                Antwerpen   \n",
       "1                 Antwerpen                Antwerpen   \n",
       "2                  Boechout                Antwerpen   \n",
       "3                      Boom                Antwerpen   \n",
       "4                  Borsbeek                Antwerpen   \n",
       "..                      ...                      ...   \n",
       "577              Schaarbeek  Brussels-Catpial-Region   \n",
       "578                   Ukkel  Brussels-Catpial-Region   \n",
       "579     Watermaal-Bosvoorde  Brussels-Catpial-Region   \n",
       "580  Sint-Lambrechts-Woluwe  Brussels-Catpial-Region   \n",
       "581     Sint-Pieters-Woluwe  Brussels-Catpial-Region   \n",
       "\n",
       "                      Province_FR                Province_DE  \n",
       "0                          Anvers                  Antwerpen  \n",
       "1                          Anvers                  Antwerpen  \n",
       "2                          Anvers                  Antwerpen  \n",
       "3                          Anvers                  Antwerpen  \n",
       "4                          Anvers                  Antwerpen  \n",
       "..                            ...                        ...  \n",
       "577  Région de Bruxelles-Capitale  Region Brüssel-Hauptstadt  \n",
       "578  Région de Bruxelles-Capitale  Region Brüssel-Hauptstadt  \n",
       "579  Région de Bruxelles-Capitale  Region Brüssel-Hauptstadt  \n",
       "580  Région de Bruxelles-Capitale  Region Brüssel-Hauptstadt  \n",
       "581  Région de Bruxelles-Capitale  Region Brüssel-Hauptstadt  \n",
       "\n",
       "[582 rows x 7 columns]"
      ]
     },
     "execution_count": 80,
     "metadata": {},
     "output_type": "execute_result"
    }
   ],
   "source": [
    "combined_df"
   ]
  },
  {
   "cell_type": "code",
   "execution_count": 82,
   "id": "302c84cb-fd84-4f72-abc1-2b3b6488125f",
   "metadata": {
    "tags": []
   },
   "outputs": [],
   "source": [
    "# combined_df.to_csv(os.path.join(os.getcwd(),'data_rag/Belgium_districts_full.xlsx'))"
   ]
  },
  {
   "cell_type": "code",
   "execution_count": 84,
   "id": "115b1cb7-4c3b-4c01-a80c-09c7bc16e7db",
   "metadata": {
    "tags": []
   },
   "outputs": [],
   "source": [
    "sector_path = os.path.join(os.getcwd(),'data_rag/Statisticaldistricts_from01012023.xlsx')\n",
    "sector_data = pd.ExcelFile(sector_path)\n",
    "sector_df = sector_data.parse(sector_data.sheet_names[0])\n",
    "\n",
    "merged_df = combined_df.merge(sector_df, how='right', left_on='Municipality', right_on='Commune_NL')\n",
    "merged_df = merged_df.combine_first(combined_df.merge(sector_df, how='right', left_on='Municipality', right_on='Commune_FR'))\n",
    "merged_df = merged_df.combine_first(combined_df.merge(sector_df, how='right', left_on='Municipality', right_on='Commune_DE'))"
   ]
  },
  {
   "cell_type": "code",
   "execution_count": 85,
   "id": "884c557e-0d7f-4292-9627-ef4ee8f05aea",
   "metadata": {
    "tags": []
   },
   "outputs": [
    {
     "data": {
      "text/plain": [
       "array(['Aalst', 'Denderleeuw', 'Geraardsbergen', 'Haaltert', 'Herzele',\n",
       "       'Lede', 'Ninove', 'Sint-Lievens-Houtem', 'Zottegem', 'Erpe-Mere',\n",
       "       'Berlare', 'Buggenhout', 'Dendermonde', 'Hamme', 'Laarne',\n",
       "       'Lebbeke', 'Waasmunster', 'Wetteren', 'Wichelen', 'Zele',\n",
       "       'Assenede', 'Eeklo', 'Kaprijke', 'Maldegem', 'Sint-Laureins',\n",
       "       'Zelzate', 'Aalter', 'Deinze', 'De Pinte', 'Destelbergen',\n",
       "       'Evergem', 'Gavere', 'Gent', 'Lochristi', 'Lievegem', 'Melle',\n",
       "       'Merelbeke', 'Moerbeke', 'Nazareth', 'Oosterzele',\n",
       "       'Sint-Martens-Latem', 'Wachtebeke', 'Zulte', 'Kruisem',\n",
       "       'Oudenaarde', 'Ronse', 'Brakel', 'Kluisbergen', 'Wortegem-Petegem',\n",
       "       'Horebeke', 'Lierde', 'Maarkedal', 'Zwalm', 'Beveren', 'Kruibeke',\n",
       "       'Lokeren', 'Sint-Gillis-Waas', 'Sint-Niklaas', 'Stekene', 'Temse'],\n",
       "      dtype=object)"
      ]
     },
     "execution_count": 85,
     "metadata": {},
     "output_type": "execute_result"
    }
   ],
   "source": [
    "merged_df[merged_df['Province'] == 'Oost-Vlaanderen']['Municipality'].unique()"
   ]
  },
  {
   "cell_type": "code",
   "execution_count": 98,
   "id": "59fdcd0e-4fbd-4380-849d-e3c0be702513",
   "metadata": {
    "tags": []
   },
   "outputs": [
    {
     "data": {
      "text/plain": [
       "array([], dtype=object)"
      ]
     },
     "execution_count": 98,
     "metadata": {},
     "output_type": "execute_result"
    }
   ],
   "source": [
    "merged_df[merged_df['Province'].isna()].Commune_NL.unique()"
   ]
  },
  {
   "cell_type": "code",
   "execution_count": 96,
   "id": "bf697118-8be8-4d38-8de0-de548c3bf540",
   "metadata": {
    "tags": []
   },
   "outputs": [
    {
     "name": "stdout",
     "output_type": "stream",
     "text": [
      "19795 19795\n",
      "581\n",
      "11\n"
     ]
    }
   ],
   "source": [
    "print(len(sector_df), len(merged_df)) # The sector data is from 2023. We consider pre-2019 Hainaut commune structures, which may have resulted in .\n",
    "print(len(merged_df['Municipality'].unique()))\n",
    "print(len(combined_df['Province'].unique())) "
   ]
  },
  {
   "cell_type": "code",
   "execution_count": 118,
   "id": "c31fbb74-1bf6-444e-8b31-151bacab45c3",
   "metadata": {
    "tags": []
   },
   "outputs": [],
   "source": [
    "merged_df.to_csv(os.path.join(os.getcwd(),'data_rag/BE_location_full.csv'))"
   ]
  },
  {
   "cell_type": "code",
   "execution_count": 115,
   "id": "7634f5c3-b52d-4df8-ae9a-55c4fa4f3575",
   "metadata": {
    "tags": []
   },
   "outputs": [
    {
     "data": {
      "text/plain": [
       "array(['Antwerpen', 'Brussels-Catpial-Region', 'Vlaams-Brabant',\n",
       "       'Brabant wallon', 'West Flanders', 'Oost-Vlaanderen', 'Hainaut',\n",
       "       'Liège', 'Limburg', 'Luxembourg', 'Namur'], dtype=object)"
      ]
     },
     "execution_count": 115,
     "metadata": {},
     "output_type": "execute_result"
    }
   ],
   "source": [
    "merged_df.Province.unique()"
   ]
  },
  {
   "cell_type": "code",
   "execution_count": 123,
   "id": "8f4db8d7-3f59-4eb1-b9ca-a44b6026234d",
   "metadata": {},
   "outputs": [
    {
     "data": {
      "text/html": [
       "<div>\n",
       "<style scoped>\n",
       "    .dataframe tbody tr th:only-of-type {\n",
       "        vertical-align: middle;\n",
       "    }\n",
       "\n",
       "    .dataframe tbody tr th {\n",
       "        vertical-align: top;\n",
       "    }\n",
       "\n",
       "    .dataframe thead th {\n",
       "        text-align: right;\n",
       "    }\n",
       "</style>\n",
       "<table border=\"1\" class=\"dataframe\">\n",
       "  <thead>\n",
       "    <tr style=\"text-align: right;\">\n",
       "      <th></th>\n",
       "      <th>Province_NL</th>\n",
       "      <th>Arrondissement_NL</th>\n",
       "      <th>Arrondissement_FR</th>\n",
       "      <th>Municipality</th>\n",
       "      <th>Province</th>\n",
       "      <th>Province_FR</th>\n",
       "      <th>Province_DE</th>\n",
       "      <th>C_NIS5</th>\n",
       "      <th>Commune_NL</th>\n",
       "      <th>Commune_FR</th>\n",
       "      <th>Commune_DE</th>\n",
       "      <th>StatistischeSector_code_Secteurstatistique</th>\n",
       "      <th>Sector_NL</th>\n",
       "      <th>Sector_FR</th>\n",
       "      <th>Sector_DE</th>\n",
       "      <th>C_NIS6</th>\n",
       "    </tr>\n",
       "  </thead>\n",
       "  <tbody>\n",
       "    <tr>\n",
       "      <th>0</th>\n",
       "      <td>Antwerpen</td>\n",
       "      <td>Antwerpen</td>\n",
       "      <td>Anvers</td>\n",
       "      <td>Aartselaar</td>\n",
       "      <td>Antwerpen</td>\n",
       "      <td>Anvers</td>\n",
       "      <td>Antwerpen</td>\n",
       "      <td>11001</td>\n",
       "      <td>Aartselaar</td>\n",
       "      <td>Aartselaar</td>\n",
       "      <td>Aartselaar</td>\n",
       "      <td>11001A00-</td>\n",
       "      <td>AARTSELAAR-CENTRUM</td>\n",
       "      <td>AARTSELAAR-CENTRUM</td>\n",
       "      <td>AARTSELAAR-CENTRUM</td>\n",
       "      <td>11001A</td>\n",
       "    </tr>\n",
       "    <tr>\n",
       "      <th>1</th>\n",
       "      <td>Antwerpen</td>\n",
       "      <td>Antwerpen</td>\n",
       "      <td>Anvers</td>\n",
       "      <td>Aartselaar</td>\n",
       "      <td>Antwerpen</td>\n",
       "      <td>Anvers</td>\n",
       "      <td>Antwerpen</td>\n",
       "      <td>11001</td>\n",
       "      <td>Aartselaar</td>\n",
       "      <td>Aartselaar</td>\n",
       "      <td>Aartselaar</td>\n",
       "      <td>11001A01-</td>\n",
       "      <td>DE LEEUWERIK</td>\n",
       "      <td>DE LEEUWERIK</td>\n",
       "      <td>DE LEEUWERIK</td>\n",
       "      <td>11001A</td>\n",
       "    </tr>\n",
       "    <tr>\n",
       "      <th>2</th>\n",
       "      <td>Antwerpen</td>\n",
       "      <td>Antwerpen</td>\n",
       "      <td>Anvers</td>\n",
       "      <td>Aartselaar</td>\n",
       "      <td>Antwerpen</td>\n",
       "      <td>Anvers</td>\n",
       "      <td>Antwerpen</td>\n",
       "      <td>11001</td>\n",
       "      <td>Aartselaar</td>\n",
       "      <td>Aartselaar</td>\n",
       "      <td>Aartselaar</td>\n",
       "      <td>11001A020</td>\n",
       "      <td>BUERSTEDE</td>\n",
       "      <td>BUERSTEDE</td>\n",
       "      <td>BUERSTEDE</td>\n",
       "      <td>11001A</td>\n",
       "    </tr>\n",
       "    <tr>\n",
       "      <th>3</th>\n",
       "      <td>Antwerpen</td>\n",
       "      <td>Antwerpen</td>\n",
       "      <td>Anvers</td>\n",
       "      <td>Aartselaar</td>\n",
       "      <td>Antwerpen</td>\n",
       "      <td>Anvers</td>\n",
       "      <td>Antwerpen</td>\n",
       "      <td>11001</td>\n",
       "      <td>Aartselaar</td>\n",
       "      <td>Aartselaar</td>\n",
       "      <td>Aartselaar</td>\n",
       "      <td>11001A030</td>\n",
       "      <td>YSSELAAR</td>\n",
       "      <td>YSSELAAR</td>\n",
       "      <td>YSSELAAR</td>\n",
       "      <td>11001A</td>\n",
       "    </tr>\n",
       "    <tr>\n",
       "      <th>4</th>\n",
       "      <td>Antwerpen</td>\n",
       "      <td>Antwerpen</td>\n",
       "      <td>Anvers</td>\n",
       "      <td>Aartselaar</td>\n",
       "      <td>Antwerpen</td>\n",
       "      <td>Anvers</td>\n",
       "      <td>Antwerpen</td>\n",
       "      <td>11001</td>\n",
       "      <td>Aartselaar</td>\n",
       "      <td>Aartselaar</td>\n",
       "      <td>Aartselaar</td>\n",
       "      <td>11001A042</td>\n",
       "      <td>KLEINE GRIPPE</td>\n",
       "      <td>KLEINE GRIPPE</td>\n",
       "      <td>KLEINE GRIPPE</td>\n",
       "      <td>11001A</td>\n",
       "    </tr>\n",
       "  </tbody>\n",
       "</table>\n",
       "</div>"
      ],
      "text/plain": [
       "  Province_NL Arrondissement_NL Arrondissement_FR Municipality   Province  \\\n",
       "0   Antwerpen         Antwerpen            Anvers   Aartselaar  Antwerpen   \n",
       "1   Antwerpen         Antwerpen            Anvers   Aartselaar  Antwerpen   \n",
       "2   Antwerpen         Antwerpen            Anvers   Aartselaar  Antwerpen   \n",
       "3   Antwerpen         Antwerpen            Anvers   Aartselaar  Antwerpen   \n",
       "4   Antwerpen         Antwerpen            Anvers   Aartselaar  Antwerpen   \n",
       "\n",
       "  Province_FR Province_DE  C_NIS5  Commune_NL  Commune_FR  Commune_DE  \\\n",
       "0      Anvers   Antwerpen   11001  Aartselaar  Aartselaar  Aartselaar   \n",
       "1      Anvers   Antwerpen   11001  Aartselaar  Aartselaar  Aartselaar   \n",
       "2      Anvers   Antwerpen   11001  Aartselaar  Aartselaar  Aartselaar   \n",
       "3      Anvers   Antwerpen   11001  Aartselaar  Aartselaar  Aartselaar   \n",
       "4      Anvers   Antwerpen   11001  Aartselaar  Aartselaar  Aartselaar   \n",
       "\n",
       "  StatistischeSector_code_Secteurstatistique           Sector_NL  \\\n",
       "0                                  11001A00-  AARTSELAAR-CENTRUM   \n",
       "1                                  11001A01-        DE LEEUWERIK   \n",
       "2                                  11001A020           BUERSTEDE   \n",
       "3                                  11001A030            YSSELAAR   \n",
       "4                                  11001A042       KLEINE GRIPPE   \n",
       "\n",
       "            Sector_FR           Sector_DE  C_NIS6  \n",
       "0  AARTSELAAR-CENTRUM  AARTSELAAR-CENTRUM  11001A  \n",
       "1        DE LEEUWERIK        DE LEEUWERIK  11001A  \n",
       "2           BUERSTEDE           BUERSTEDE  11001A  \n",
       "3            YSSELAAR            YSSELAAR  11001A  \n",
       "4       KLEINE GRIPPE       KLEINE GRIPPE  11001A  "
      ]
     },
     "execution_count": 123,
     "metadata": {},
     "output_type": "execute_result"
    }
   ],
   "source": [
    "merged_df.head()"
   ]
  },
  {
   "cell_type": "code",
   "execution_count": null,
   "id": "464bc844-ab13-4e3e-a34d-a05bdd951929",
   "metadata": {},
   "outputs": [],
   "source": []
  }
 ],
 "metadata": {
  "kernelspec": {
   "display_name": "Python 3 (ipykernel)",
   "language": "python",
   "name": "python3"
  },
  "language_info": {
   "codemirror_mode": {
    "name": "ipython",
    "version": 3
   },
   "file_extension": ".py",
   "mimetype": "text/x-python",
   "name": "python",
   "nbconvert_exporter": "python",
   "pygments_lexer": "ipython3",
   "version": "3.11.7"
  }
 },
 "nbformat": 4,
 "nbformat_minor": 5
}
